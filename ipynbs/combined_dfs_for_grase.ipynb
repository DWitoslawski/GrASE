{
 "cells": [
  {
   "cell_type": "code",
   "outputs": [],
   "source": [
    "import pandas as pd"
   ],
   "metadata": {
    "collapsed": false,
    "ExecuteTime": {
     "end_time": "2024-03-06T23:17:29.326358Z",
     "start_time": "2024-03-06T23:17:28.681447Z"
    }
   },
   "id": "4cb264dfde58359c",
   "execution_count": 1
  },
  {
   "cell_type": "code",
   "outputs": [
    {
     "data": {
      "text/plain": "'rmatsID_col = RI_MATS.pop(\"rMATS_ID\")\\nRI_MATS.insert(1, rmatsID_col.name, rmatsID_col)\\nRI_MATS.pop(\"ID\")'"
     },
     "execution_count": 2,
     "metadata": {},
     "output_type": "execute_result"
    }
   ],
   "source": [
    "dexseqResults = pd.read_table(\"/home/dwito/BonnalData/dexseq_rmats_analysis/dexseq_res/bonnal_dexseq_results.txt\")\n",
    "\n",
    "A3SS_MATS = pd.read_table(\"/home/dwito/BonnalData/dexseq_rmats_analysis/rmats_out/A3SS.MATS.JCEC.txt\", dtype=str)\n",
    "A3SS_MATS[\"ID\"] = \"A3SS_\" + A3SS_MATS[\"ID\"].astype(str)\n",
    "'''rmatsID_col = A3SS_MATS.pop(\"rMATS_ID\")\n",
    "A3SS_MATS.insert(1, rmatsID_col.name, rmatsID_col)\n",
    "A3SS_MATS.pop(\"ID\")'''\n",
    "\n",
    "A5SS_MATS = pd.read_table(\"/home/dwito/BonnalData/dexseq_rmats_analysis/rmats_out/A5SS.MATS.JCEC.txt\", dtype=str)\n",
    "A5SS_MATS[\"ID\"] = \"A5SS_\" + A5SS_MATS[\"ID\"].astype(str)\n",
    "'''rmatsID_col = A5SS_MATS.pop(\"rMATS_ID\")\n",
    "A5SS_MATS.insert(1, rmatsID_col.name, rmatsID_col)\n",
    "A5SS_MATS.pop(\"ID\")'''\n",
    "\n",
    "SE_MATS = pd.read_table(\"/home/dwito/BonnalData/dexseq_rmats_analysis/rmats_out/SE.MATS.JCEC.txt\", dtype=str)\n",
    "SE_MATS[\"ID\"] = \"SE_\" + SE_MATS[\"ID\"].astype(str)\n",
    "'''rmatsID_col = SE_MATS.pop(\"rMATS_ID\")\n",
    "SE_MATS.insert(1, rmatsID_col.name, rmatsID_col)\n",
    "SE_MATS.pop(\"ID\")'''\n",
    "\n",
    "RI_MATS = pd.read_table(\"/home/dwito/BonnalData/dexseq_rmats_analysis/rmats_out/RI.MATS.JCEC.txt\", dtype=str)\n",
    "RI_MATS[\"ID\"] = \"RI_\" + RI_MATS[\"ID\"].astype(str)\n",
    "'''rmatsID_col = RI_MATS.pop(\"rMATS_ID\")\n",
    "RI_MATS.insert(1, rmatsID_col.name, rmatsID_col)\n",
    "RI_MATS.pop(\"ID\")'''"
   ],
   "metadata": {
    "collapsed": true,
    "ExecuteTime": {
     "end_time": "2024-03-06T23:17:32.047442Z",
     "start_time": "2024-03-06T23:17:29.328023Z"
    }
   },
   "id": "initial_id",
   "execution_count": 2
  },
  {
   "cell_type": "markdown",
   "source": [
    "### ^^Data\n"
   ],
   "metadata": {
    "collapsed": false
   },
   "id": "33df2afb4364da1d"
  },
  {
   "cell_type": "markdown",
   "source": [
    "---\n",
    "# Counting Exons"
   ],
   "metadata": {
    "collapsed": false
   },
   "id": "e7c03a481f920650"
  },
  {
   "cell_type": "code",
   "outputs": [],
   "source": [
    "dex_to_A3SS = pd.read_table(\"/home/dwito/merging_rmats_dexseq/genome_wide_analysis_bonnal/Bnaive-CD8naive/grase_results/results/tmp/combined.dexseq.A3SS.mapped.txt\", dtype=str)\n",
    "dex_to_A3SS = dex_to_A3SS[dex_to_A3SS[\"GeneID\"] != \"GeneID\"]\n",
    "dex_to_A3SS[\"GeneID\"] = dex_to_A3SS[\"GeneID\"].str.strip()\n",
    "dex_to_A3SS[\"DexseqFragment\"] = dex_to_A3SS[\"DexseqFragment\"].str.strip()\n",
    "dex_to_A3SS = dex_to_A3SS.sort_values(by=[\"GeneID\", \"DexseqFragment\"])\n",
    "dex_to_A3SS = dex_to_A3SS.reset_index(drop=True)\n",
    "\n",
    "\n",
    "dex_to_A5SS = pd.read_table(\"/home/dwito/merging_rmats_dexseq/genome_wide_analysis_bonnal/Bnaive-CD8naive/grase_results/results/tmp/combined.dexseq.A5SS.mapped.txt\", dtype=str)\n",
    "dex_to_A5SS = dex_to_A5SS[dex_to_A5SS[\"GeneID\"] != \"GeneID\"]\n",
    "dex_to_A5SS[\"GeneID\"] = dex_to_A5SS[\"GeneID\"].str.strip()\n",
    "dex_to_A5SS[\"DexseqFragment\"] = dex_to_A5SS[\"DexseqFragment\"].str.strip()\n",
    "dex_to_A5SS = dex_to_A5SS.sort_values(by=[\"GeneID\", \"DexseqFragment\"])\n",
    "dex_to_A5SS = dex_to_A5SS.reset_index(drop=True)\n",
    "\n",
    "\n",
    "dex_to_SE = pd.read_table(\"/home/dwito/merging_rmats_dexseq/genome_wide_analysis_bonnal/Bnaive-CD8naive/grase_results/results/tmp/combined.dexseq.SE.mapped.txt\", dtype=str)\n",
    "dex_to_SE = dex_to_SE[dex_to_SE[\"GeneID\"] != \"GeneID\"]\n",
    "dex_to_SE[\"GeneID\"] = dex_to_SE[\"GeneID\"].str.strip()\n",
    "dex_to_SE[\"DexseqFragment\"] = dex_to_SE[\"DexseqFragment\"].str.strip()\n",
    "dex_to_SE= dex_to_SE.sort_values(by=[\"GeneID\", \"DexseqFragment\"])\n",
    "dex_to_SE = dex_to_SE.reset_index(drop=True)\n",
    "\n",
    "dex_to_RI = pd.read_table(\"/home/dwito/merging_rmats_dexseq/genome_wide_analysis_bonnal/Bnaive-CD8naive/grase_results/results/tmp/combined.dexseq.RI.mapped.txt\", dtype=str)\n",
    "dex_to_RI = dex_to_RI[dex_to_RI[\"GeneID\"] != \"GeneID\"]\n",
    "dex_to_RI[\"GeneID\"] = dex_to_RI[\"GeneID\"].str.strip()\n",
    "dex_to_RI[\"DexseqFragment\"] = dex_to_RI[\"DexseqFragment\"].str.strip()\n",
    "dex_to_RI = dex_to_RI.sort_values(by=[\"GeneID\", \"DexseqFragment\"])\n",
    "dex_to_RI = dex_to_RI.reset_index(drop=True)\n",
    "\n",
    "#A3SS_rmats_dexseq = merge_dexseq_rmats(dexseqResults, A3SS_MATS, fromGTF_A3SS, A3SS_GFF, \"A3SS\")\n",
    "#A3SS_rmats_dexseq[\"Event\"] = \"A3SS\""
   ],
   "metadata": {
    "collapsed": false,
    "ExecuteTime": {
     "end_time": "2024-03-06T23:17:33.500023Z",
     "start_time": "2024-03-06T23:17:32.049030Z"
    }
   },
   "id": "e020c800c1e7511e",
   "execution_count": 3
  },
  {
   "cell_type": "code",
   "outputs": [],
   "source": [
    "dex_to_SE_A5 = pd.merge(dex_to_SE, dex_to_A5SS, how=\"outer\", on=[\"GeneID\", \"DexseqFragment\"])\n",
    "del dex_to_SE\n",
    "del dex_to_A5SS\n",
    "dex_to_SE_A5_A3 = pd.merge(dex_to_SE_A5, dex_to_A3SS, how=\"outer\", on=[\"GeneID\", \"DexseqFragment\"])\n",
    "del dex_to_A3SS\n",
    "del dex_to_SE_A5\n",
    "dex_to_rmats = pd.merge(dex_to_SE_A5_A3, dex_to_RI, how=\"outer\", on=[\"GeneID\", \"DexseqFragment\"])\n",
    "del dex_to_RI\n",
    "del dex_to_SE_A5_A3"
   ],
   "metadata": {
    "collapsed": false,
    "ExecuteTime": {
     "end_time": "2024-03-06T23:17:34.409501Z",
     "start_time": "2024-03-06T23:17:33.502186Z"
    }
   },
   "id": "d6cd35fbead96fea",
   "execution_count": 4
  },
  {
   "cell_type": "markdown",
   "source": [
    "### ^^Now we have a fully merged dex_to_rmats df that maps all dexseq exons (in grase) with all rmats events (A3, A5, SE, RI)"
   ],
   "metadata": {
    "collapsed": false
   },
   "id": "576bb28c2bad1adf"
  },
  {
   "cell_type": "code",
   "outputs": [],
   "source": [
    "dex_to_rmats[\"rMATS_ID\"] = dex_to_rmats[[\"rMATS_ID_A3SS\", \"rMATS_ID_A5SS\", \"rMATS_ID_SE\", \"rMATS_ID_RI\"]].stack().groupby(level=0).agg(','.join)\n",
    "dex_to_rmats.drop(columns=[\"rMATS_ID_A3SS\", \"rMATS_ID_A5SS\", \"rMATS_ID_SE\", \"rMATS_ID_RI\"], inplace=True)"
   ],
   "metadata": {
    "collapsed": false,
    "ExecuteTime": {
     "end_time": "2024-03-06T23:17:41.409319Z",
     "start_time": "2024-03-06T23:17:34.411092Z"
    }
   },
   "id": "cea0bc47dcfb9a59",
   "execution_count": 5
  },
  {
   "cell_type": "markdown",
   "source": [
    "### ^^combining different ASE columns into one rMATS_ID column"
   ],
   "metadata": {
    "collapsed": false
   },
   "id": "da3320adf2c274c6"
  },
  {
   "cell_type": "code",
   "outputs": [],
   "source": [
    "dex_to_rmats_dexRes = pd.merge(dexseqResults, dex_to_rmats, how=\"outer\", left_on=[\"groupID\", \"featureID\"], right_on=[\"GeneID\", \"DexseqFragment\"])\n",
    "rmatsID_col = dex_to_rmats_dexRes.pop(\"rMATS_ID\")\n",
    "dex_to_rmats_dexRes.insert(2, rmatsID_col.name, rmatsID_col)\n",
    "dex_to_rmats_dexRes[\"groupID\"].fillna(dex_to_rmats_dexRes[\"GeneID\"], inplace=True)\n",
    "dex_to_rmats_dexRes[\"featureID\"].fillna(dex_to_rmats_dexRes[\"DexseqFragment\"], inplace=True)\n",
    "dex_to_rmats_dexRes.drop(columns=[\"GeneID\", \"DexseqFragment\"], inplace=True)\n",
    "dex_to_rmats_dexRes.sort_values(by=[\"groupID\", \"featureID\"], inplace=True)\n",
    "dex_to_rmats_dexRes.reset_index(drop=True, inplace=True)\n",
    "num_exons = len(dex_to_rmats_dexRes)"
   ],
   "metadata": {
    "collapsed": false,
    "ExecuteTime": {
     "end_time": "2024-03-06T23:17:42.517110Z",
     "start_time": "2024-03-06T23:17:41.411177Z"
    }
   },
   "id": "6424d44903a058c",
   "execution_count": 6
  },
  {
   "cell_type": "markdown",
   "source": [
    "### ^^Now we have dex_to_rmats merged with DEXSeq results (dex_to_rmats_dexRes), that contains all exons in the dataset (mapping to all rMATS events of A5, A3, SE, RI)"
   ],
   "metadata": {
    "collapsed": false
   },
   "id": "4cd390987eb7e829"
  },
  {
   "cell_type": "code",
   "outputs": [],
   "source": [
    "exon_dex_sig = dex_to_rmats_dexRes.loc[dex_to_rmats_dexRes[\"padj\"] <= .05]\n",
    "num_exons_dex_sig = len(exon_dex_sig)"
   ],
   "metadata": {
    "collapsed": false,
    "ExecuteTime": {
     "end_time": "2024-03-06T23:17:42.525485Z",
     "start_time": "2024-03-06T23:17:42.518853Z"
    }
   },
   "id": "141097dadf0f6a69",
   "execution_count": 7
  },
  {
   "cell_type": "markdown",
   "source": [
    "### ^^Now we have a dex_sig df for all the exons that are significant in DEXSeq"
   ],
   "metadata": {
    "collapsed": false
   },
   "id": "138c2f2da931081a"
  },
  {
   "cell_type": "code",
   "outputs": [],
   "source": [
    "exon_rmats_detected = dex_to_rmats_dexRes[[\"groupID\", \"featureID\", \"padj\", \"rMATS_ID\"]].loc[dex_to_rmats_dexRes[\"rMATS_ID\"].notna()]\n",
    "num_exons_rmats_detected = len(exon_rmats_detected)"
   ],
   "metadata": {
    "collapsed": false,
    "ExecuteTime": {
     "end_time": "2024-03-06T23:17:42.577572Z",
     "start_time": "2024-03-06T23:17:42.526627Z"
    }
   },
   "id": "e00ac4ff1f556f6c",
   "execution_count": 8
  },
  {
   "cell_type": "markdown",
   "source": [
    "### ^^Now we have an rmats_detected df for all of the exons that are tested by rMATS"
   ],
   "metadata": {
    "collapsed": false
   },
   "id": "1e171eb98dc5c67c"
  },
  {
   "cell_type": "code",
   "outputs": [],
   "source": [
    "exon_rmats_detected_dex_sig = exon_rmats_detected.loc[exon_rmats_detected[\"padj\"] <= .05]\n",
    "num_exons_dex_sig_rmats_detected = len(exon_rmats_detected_dex_sig)"
   ],
   "metadata": {
    "collapsed": false,
    "ExecuteTime": {
     "end_time": "2024-03-06T23:17:42.582674Z",
     "start_time": "2024-03-06T23:17:42.579087Z"
    }
   },
   "id": "ee780f5894aa6a4b",
   "execution_count": 9
  },
  {
   "cell_type": "markdown",
   "source": [
    "### ^^Now we have an rmats_detected_dex_sig df for all of the exons that are detected by rMATS, but are also significant in DEXSeq"
   ],
   "metadata": {
    "collapsed": false
   },
   "id": "bdad848d4deb211b"
  },
  {
   "cell_type": "code",
   "outputs": [],
   "source": [
    "dex_to_rmats_exploded = dex_to_rmats.copy()\n",
    "dex_to_rmats_exploded[\"rMATS_ID\"] = dex_to_rmats_exploded[\"rMATS_ID\"].str.split(\",\")\n",
    "dex_to_rmats_exploded = dex_to_rmats_exploded.explode(\"rMATS_ID\")\n",
    "#dex_to_rmats_exploded[\"rMATS_ID\"] = dex_to_rmats_exploded[\"rMATS_ID\"].astype(str)"
   ],
   "metadata": {
    "collapsed": false,
    "ExecuteTime": {
     "end_time": "2024-03-06T23:17:43.266207Z",
     "start_time": "2024-03-06T23:17:42.586589Z"
    }
   },
   "id": "5c17e91984689b20",
   "execution_count": 10
  },
  {
   "cell_type": "code",
   "outputs": [],
   "source": [
    "dex_to_rmats_ex_A3 = dex_to_rmats_exploded.merge(A3SS_MATS, how=\"left\", left_on=[\"GeneID\", \"rMATS_ID\"], right_on=[\"GeneID\", \"ID\"])\n",
    "dex_to_rmats_ex_A5 = dex_to_rmats_exploded.merge(A5SS_MATS, how=\"left\", left_on=[\"GeneID\", \"rMATS_ID\"], right_on=[\"GeneID\", \"ID\"])\n",
    "dex_to_rmats_ex_SE = dex_to_rmats_exploded.merge(SE_MATS, how=\"left\", left_on=[\"GeneID\", \"rMATS_ID\"], right_on=[\"GeneID\", \"ID\"])\n",
    "dex_to_rmats_ex_RI = dex_to_rmats_exploded.merge(RI_MATS, how=\"left\", left_on=[\"GeneID\", \"rMATS_ID\"], right_on=[\"GeneID\", \"ID\"])\n",
    "\n",
    "dex_to_rmats_ex_MATS = pd.concat([dex_to_rmats_ex_A3, dex_to_rmats_ex_A5, dex_to_rmats_ex_SE, dex_to_rmats_ex_RI])\n",
    "dex_to_rmats_ex_MATS.dropna(subset=\"ID.1\", inplace=True)\n",
    "\n",
    "del dex_to_rmats_ex_A3\n",
    "del dex_to_rmats_ex_A5\n",
    "del dex_to_rmats_ex_SE\n",
    "del dex_to_rmats_ex_RI"
   ],
   "metadata": {
    "collapsed": false,
    "ExecuteTime": {
     "end_time": "2024-03-06T23:17:47.714360Z",
     "start_time": "2024-03-06T23:17:43.267585Z"
    }
   },
   "id": "e854b0c95a35bfa0",
   "execution_count": 11
  },
  {
   "cell_type": "code",
   "outputs": [],
   "source": [
    "dex_to_rmats_ex_dexRes = dex_to_rmats_dexRes.copy()\n",
    "dex_to_rmats_ex_dexRes[\"rMATS_ID\"] = dex_to_rmats_ex_dexRes[\"rMATS_ID\"].str.split(\",\")\n",
    "dex_to_rmats_ex_dexRes = dex_to_rmats_ex_dexRes.explode(\"rMATS_ID\")\n",
    "dex_to_rmats_ex_dexRes_MATS = dex_to_rmats_ex_dexRes.merge(dex_to_rmats_ex_MATS, how=\"left\", left_on=[\"groupID\", \"rMATS_ID\", \"featureID\"], right_on=[\"GeneID\", \"rMATS_ID\", \"DexseqFragment\"])\n",
    "dex_to_rmats_ex_dexRes_MATS[[\"padj\", \"FDR\"]] = dex_to_rmats_ex_dexRes_MATS[[\"padj\", \"FDR\"]].apply(pd.to_numeric)"
   ],
   "metadata": {
    "collapsed": false,
    "ExecuteTime": {
     "end_time": "2024-03-06T23:17:51.224100Z",
     "start_time": "2024-03-06T23:17:47.715913Z"
    }
   },
   "id": "6ac9e801357c72ab",
   "execution_count": 12
  },
  {
   "cell_type": "markdown",
   "source": [
    "### ^^Now we have a combined df for dex_to_rmats merged with the DEXSeq results and the rMATS results for each event - dex_to_rmats_dexRes_MATS"
   ],
   "metadata": {
    "collapsed": false
   },
   "id": "df1f02c83ef0d3e1"
  },
  {
   "cell_type": "code",
   "outputs": [],
   "source": [
    "exon_dex_tested = dex_to_rmats_ex_dexRes_MATS.copy()\n",
    "exon_dex_tested = exon_dex_tested.dropna(subset=\"padj\")\n",
    "exon_dex_tested_dedup = exon_dex_tested.drop_duplicates(subset=[\"groupID\", \"featureID\"], keep=\"first\")\n",
    "exon_dex_tested_dedup = exon_dex_tested_dedup[[\"groupID\", \"featureID\", \"padj\", \"rMATS_ID\"]]\n",
    "num_exons_dex_tested = len(exon_dex_tested_dedup)"
   ],
   "metadata": {
    "collapsed": false,
    "ExecuteTime": {
     "end_time": "2024-03-06T23:17:52.760007Z",
     "start_time": "2024-03-06T23:17:51.225862Z"
    }
   },
   "id": "232e1a1578f16331",
   "execution_count": 13
  },
  {
   "cell_type": "markdown",
   "source": [
    "### ^^Now we have the number of exons tested by DEXSeq"
   ],
   "metadata": {
    "collapsed": false
   },
   "id": "71f8a472a8927e6e"
  },
  {
   "cell_type": "code",
   "outputs": [],
   "source": [
    "exon_dex_tested_rmats_detected = exon_dex_tested.copy()\n",
    "exon_dex_tested_rmats_detected = exon_dex_tested_rmats_detected.loc[exon_dex_tested_rmats_detected[\"rMATS_ID\"].notna()]\n",
    "exon_dex_tested_rmats_detected_dedup = exon_dex_tested_rmats_detected.drop_duplicates(subset=[\"groupID\", \"featureID\"], keep=\"first\")\n",
    "exon_dex_tested_rmats_detected_dedup = exon_dex_tested_rmats_detected_dedup[[\"groupID\", \"featureID\", \"padj\", \"rMATS_ID\"]]\n",
    "num_exons_dex_tested_rmats_detected = len(exon_dex_tested_rmats_detected_dedup)"
   ],
   "metadata": {
    "collapsed": false,
    "ExecuteTime": {
     "end_time": "2024-03-06T23:17:53.157139Z",
     "start_time": "2024-03-06T23:17:52.761593Z"
    }
   },
   "id": "64e9f0c88652a887",
   "execution_count": 14
  },
  {
   "cell_type": "markdown",
   "source": [
    "## ^^Now we have the number of exons tested by DEXSeq and detected by rMATS"
   ],
   "metadata": {
    "collapsed": false
   },
   "id": "70afca0ae6e24a90"
  },
  {
   "cell_type": "code",
   "outputs": [],
   "source": [
    "exon_dex_tested_rmats_tested = exon_dex_tested.copy()\n",
    "exon_dex_tested_rmats_tested = exon_dex_tested_rmats_tested.loc[exon_dex_tested_rmats_tested[\"ID.1\"].notna()]\n",
    "exon_dex_tested_rmats_tested_dedup = exon_dex_tested_rmats_tested.drop_duplicates(subset=[\"groupID\", \"featureID\"], keep=\"first\")\n",
    "exon_dex_tested_rmats_tested_dedup = exon_dex_tested_rmats_tested_dedup[[\"groupID\", \"featureID\", \"padj\", \"rMATS_ID\"]]\n",
    "num_exons_dex_tested_rmats_tested = len(exon_dex_tested_rmats_tested_dedup)"
   ],
   "metadata": {
    "collapsed": false,
    "ExecuteTime": {
     "end_time": "2024-03-06T23:17:53.527935Z",
     "start_time": "2024-03-06T23:17:53.158427Z"
    }
   },
   "id": "48ddcad244d1e7e4",
   "execution_count": 15
  },
  {
   "cell_type": "markdown",
   "source": [
    "### ^^Now we have the number of exons tested by DEXSeq and tested by rMATS"
   ],
   "metadata": {
    "collapsed": false
   },
   "id": "76dbef14da8a42df"
  },
  {
   "cell_type": "code",
   "outputs": [],
   "source": [
    "exon_dex_tested_rmats_sig = exon_dex_tested.copy()\n",
    "exon_dex_tested_rmats_sig = exon_dex_tested_rmats_sig.loc[exon_dex_tested_rmats_sig[\"FDR\"] <= .05]\n",
    "exon_dex_tested_rmats_sig_dedup = exon_dex_tested_rmats_sig.drop_duplicates(subset=[\"groupID\", \"featureID\"], keep=\"first\")\n",
    "exon_dex_tested_rmats_sig_dedup = exon_dex_tested_rmats_sig_dedup[[\"groupID\", \"featureID\", \"padj\", \"rMATS_ID\"]]\n",
    "num_exons_dex_tested_rmats_sig = len(exon_dex_tested_rmats_sig_dedup)"
   ],
   "metadata": {
    "collapsed": false,
    "ExecuteTime": {
     "end_time": "2024-03-06T23:17:53.742348Z",
     "start_time": "2024-03-06T23:17:53.529304Z"
    }
   },
   "id": "d2e0c34a89c2b473",
   "execution_count": 16
  },
  {
   "cell_type": "markdown",
   "source": [
    "### ^^Now we have the number of exons tested by DEXSeq and significant in rMATS"
   ],
   "metadata": {
    "collapsed": false
   },
   "id": "8d76353434ac059a"
  },
  {
   "cell_type": "code",
   "outputs": [],
   "source": [
    "exon_rmats_tested = dex_to_rmats_ex_dexRes_MATS.copy()\n",
    "exon_rmats_tested = exon_rmats_tested.dropna(subset=\"ID.1\")\n",
    "exon_rmats_tested_dedup = exon_rmats_tested.drop_duplicates(subset=[\"groupID\", \"featureID\"], keep=\"first\")\n",
    "exon_rmats_tested_dedup = exon_rmats_tested_dedup[[\"groupID\", \"featureID\", \"padj\", \"rMATS_ID\"]]\n",
    "num_exons_rmats_tested = len(exon_rmats_tested_dedup)"
   ],
   "metadata": {
    "collapsed": false,
    "ExecuteTime": {
     "end_time": "2024-03-06T23:17:55.067728Z",
     "start_time": "2024-03-06T23:17:53.743679Z"
    }
   },
   "id": "93bf63527809423e",
   "execution_count": 17
  },
  {
   "cell_type": "markdown",
   "source": [
    "### ^^Now we have an rmats_tested df for all of the exons that have tested events in rMATS"
   ],
   "metadata": {
    "collapsed": false
   },
   "id": "8d57938590bed88d"
  },
  {
   "cell_type": "code",
   "outputs": [],
   "source": [
    "exon_rmats_tested_dex_sig = exon_rmats_tested.copy()\n",
    "exon_rmats_tested_dex_sig = exon_rmats_tested_dex_sig.loc[exon_rmats_tested_dex_sig[\"padj\"] <= .05]\n",
    "exon_rmats_tested_dex_sig_dedup = exon_rmats_tested_dex_sig.drop_duplicates(subset=[\"groupID\", \"featureID\"], keep=\"first\")\n",
    "exon_rmats_tested_dex_sig_dedup = exon_rmats_tested_dex_sig_dedup[[\"groupID\", \"featureID\", \"padj\", \"rMATS_ID\"]]\n",
    "num_exons_rmats_tested_dex_sig = len(exon_rmats_tested_dex_sig_dedup)"
   ],
   "metadata": {
    "collapsed": false,
    "ExecuteTime": {
     "end_time": "2024-03-06T23:17:55.177660Z",
     "start_time": "2024-03-06T23:17:55.069259Z"
    }
   },
   "id": "10a634ba2f6be055",
   "execution_count": 18
  },
  {
   "cell_type": "markdown",
   "source": [
    "### ^^Now we have an rmats_tested_dex_sig df for all of the exons that have tested events in rMATS that are significant in DEXSeq"
   ],
   "metadata": {
    "collapsed": false
   },
   "id": "7f53057408e30266"
  },
  {
   "cell_type": "code",
   "outputs": [],
   "source": [
    "exon_rmats_sig = dex_to_rmats_ex_dexRes_MATS.copy()\n",
    "exon_rmats_sig = exon_rmats_sig.loc[exon_rmats_sig[\"FDR\"] <= .05]\n",
    "exon_rmats_sig_dedup = exon_rmats_sig.drop_duplicates(subset=[\"groupID\", \"featureID\"], keep=\"first\")\n",
    "exon_rmats_sig_dedup = exon_rmats_sig_dedup.iloc[:, 19:]\n",
    "num_exons_rmats_sig = len(exon_rmats_sig_dedup)"
   ],
   "metadata": {
    "collapsed": false,
    "ExecuteTime": {
     "end_time": "2024-03-06T23:17:56.299352Z",
     "start_time": "2024-03-06T23:17:55.178892Z"
    }
   },
   "id": "77d67d878a992e40",
   "execution_count": 19
  },
  {
   "cell_type": "markdown",
   "source": [
    "### ^^Now we have an rmats_sig df for all of the exons that have a significant event in rMATS"
   ],
   "metadata": {
    "collapsed": false
   },
   "id": "409119835150501a"
  },
  {
   "cell_type": "code",
   "outputs": [],
   "source": [
    "#exon_rmats_sig_dex_sig = exon_rmats_sig.drop_duplicates(subset=[\"groupID\", \"featureID\"])\n",
    "exon_rmats_sig_dex_sig = exon_rmats_sig[[\"groupID\", \"featureID\", \"padj\", \"rMATS_ID\"]].loc[exon_rmats_sig[\"padj\"] <= .05].drop_duplicates(subset=[\"groupID\", \"featureID\"])\n",
    "num_exons_dex_sig_rmats_sig = len(exon_rmats_sig_dex_sig)"
   ],
   "metadata": {
    "collapsed": false,
    "ExecuteTime": {
     "end_time": "2024-03-06T23:17:56.305842Z",
     "start_time": "2024-03-06T23:17:56.300622Z"
    }
   },
   "id": "6a12fa2b1658bdce",
   "execution_count": 20
  },
  {
   "cell_type": "markdown",
   "source": [
    "### ^^Now we have an rmats_sig_dex_sig df for all of the exons that are significant in rMATS and DEXSeq"
   ],
   "metadata": {
    "collapsed": false
   },
   "id": "e0c33641b2fdc6b1"
  },
  {
   "cell_type": "markdown",
   "source": [
    "------------------------------------\n",
    "# Counting Events"
   ],
   "metadata": {
    "collapsed": false
   },
   "id": "aed6b2d9f2403aab"
  },
  {
   "cell_type": "code",
   "outputs": [],
   "source": [
    "A3SS_to_dex = pd.read_table(\"/home/dwito/merging_rmats_dexseq/genome_wide_analysis_bonnal/Bnaive-CD8naive/grase_results/results/tmp/combined.fromGTF.A3SS.txt\", dtype=str)\n",
    "A3SS_to_dex = A3SS_to_dex[A3SS_to_dex[\"GeneID\"] != \"GeneID\"]\n",
    "A3SS_to_dex[\"ID\"] = \"A3SS_\" + A3SS_to_dex[\"ID\"].astype(str)\n",
    "\n",
    "A5SS_to_dex = pd.read_table(\"/home/dwito/merging_rmats_dexseq/genome_wide_analysis_bonnal/Bnaive-CD8naive/grase_results/results/tmp/combined.fromGTF.A5SS.txt\", dtype=str)\n",
    "A5SS_to_dex = A5SS_to_dex[A5SS_to_dex[\"GeneID\"] != \"GeneID\"]\n",
    "A5SS_to_dex[\"ID\"] = \"A5SS_\" + A5SS_to_dex[\"ID\"].astype(str)\n",
    "\n",
    "SE_to_dex = pd.read_table(\"/home/dwito/merging_rmats_dexseq/genome_wide_analysis_bonnal/Bnaive-CD8naive/grase_results/results/tmp/combined.fromGTF.SE.txt\", dtype=str)\n",
    "SE_to_dex = SE_to_dex[SE_to_dex[\"GeneID\"] != \"GeneID\"]\n",
    "SE_to_dex[\"ID\"] = \"SE_\" + SE_to_dex[\"ID\"].astype(str)\n",
    "\n",
    "RI_to_dex = pd.read_table(\"/home/dwito/merging_rmats_dexseq/genome_wide_analysis_bonnal/Bnaive-CD8naive/grase_results/results/tmp/combined.fromGTF.RI.txt\", dtype=str)\n",
    "RI_to_dex = RI_to_dex[RI_to_dex[\"GeneID\"] != \"GeneID\"]\n",
    "RI_to_dex[\"ID\"] = \"RI_\" + RI_to_dex[\"ID\"].astype(str)\n",
    "\n",
    "rmats_to_dex = pd.concat([A3SS_to_dex, A5SS_to_dex, SE_to_dex, RI_to_dex])\n",
    "rmats_to_dex.sort_values(by=[\"GeneID\", \"ID\"], inplace=True)\n",
    "rmats_to_dex.reset_index(drop=True ,inplace=True)\n",
    "num_events_rmats_detected = len(rmats_to_dex)\n",
    "#A3SS_to_dex = A3SS_to_dex.sort_values(by=[\"GeneID\", \"ID\"])"
   ],
   "metadata": {
    "collapsed": false,
    "ExecuteTime": {
     "end_time": "2024-03-06T23:17:56.657633Z",
     "start_time": "2024-03-06T23:17:56.307005Z"
    }
   },
   "id": "f289564ee3523ba0",
   "execution_count": 21
  },
  {
   "cell_type": "markdown",
   "source": [
    "### ^^Now we have all rmats detected events mapped to dexseq exons (in a comma separated list)"
   ],
   "metadata": {
    "collapsed": false
   },
   "id": "ebccc10d7b786baf"
  },
  {
   "cell_type": "code",
   "outputs": [],
   "source": [
    "rmats_to_dex_exploded = rmats_to_dex.copy()\n",
    "rmats_to_dex_exploded[\"DexseqFragment\"] = rmats_to_dex_exploded[\"DexseqFragment\"].str.split(\",\")\n",
    "rmats_to_dex_exploded = rmats_to_dex_exploded.explode(\"DexseqFragment\")"
   ],
   "metadata": {
    "collapsed": false,
    "ExecuteTime": {
     "end_time": "2024-03-06T23:17:56.895223Z",
     "start_time": "2024-03-06T23:17:56.658991Z"
    }
   },
   "id": "52d94a1c1492e4b7",
   "execution_count": 22
  },
  {
   "cell_type": "markdown",
   "source": [
    "### ^^Now we have all rmats detected events mapped to each relevant dexseq exon (separated by rows - exploded)"
   ],
   "metadata": {
    "collapsed": false
   },
   "id": "2a4fc0d94ac7379f"
  },
  {
   "cell_type": "code",
   "outputs": [],
   "source": [
    "rmats_to_dex_ex_dexRes = rmats_to_dex_exploded.merge(dexseqResults.rename(columns={\"groupID\":\"GeneID\", \"featureID\":\"DexseqFragment\"}), how=\"left\", on=[\"GeneID\", \"DexseqFragment\"])\n",
    "rmats_to_dex_ex_dexRes[[\"padj\"]] = rmats_to_dex_ex_dexRes[[\"padj\"]].apply(pd.to_numeric)\n",
    "events_rmats_detected_dex_sig = rmats_to_dex_ex_dexRes.loc[rmats_to_dex_ex_dexRes[\"padj\"] <= .05]\n",
    "events_rmats_detected_dex_sig_dedup = events_rmats_detected_dex_sig.drop_duplicates(subset=[\"GeneID\", \"ID\"], keep=\"first\")\n",
    "num_events_rmats_detected_dex_sig = len(events_rmats_detected_dex_sig_dedup)"
   ],
   "metadata": {
    "collapsed": false,
    "ExecuteTime": {
     "end_time": "2024-03-06T23:17:57.373043Z",
     "start_time": "2024-03-06T23:17:56.896515Z"
    }
   },
   "id": "1c138619279dcfa6",
   "execution_count": 23
  },
  {
   "cell_type": "markdown",
   "source": [
    "### ^^Now we have all rmats detected events that have at least one dexseq significant exon"
   ],
   "metadata": {
    "collapsed": false
   },
   "id": "b16458fb716ce864"
  },
  {
   "cell_type": "code",
   "outputs": [],
   "source": [
    "rmats_to_dex_A3 = rmats_to_dex.merge(A3SS_MATS, how=\"left\", on=[\"GeneID\", \"ID\"])\n",
    "del A3SS_MATS\n",
    "rmats_to_dex_A5 = rmats_to_dex.merge(A5SS_MATS, how=\"left\", on=[\"GeneID\", \"ID\"])\n",
    "del A5SS_MATS\n",
    "rmats_to_dex_SE = rmats_to_dex.merge(SE_MATS, how=\"left\", on=[\"GeneID\", \"ID\"])\n",
    "del SE_MATS\n",
    "rmats_to_dex_RI = rmats_to_dex.merge(RI_MATS, how=\"left\", on=[\"GeneID\", \"ID\"])\n",
    "del RI_MATS\n",
    "\n",
    "rmats_to_dex_MATS = pd.concat([rmats_to_dex_A3, rmats_to_dex_A5, rmats_to_dex_SE, rmats_to_dex_RI])\n",
    "rmats_to_dex_MATS.dropna(subset=\"ID.1\", inplace=True)\n",
    "\n",
    "del rmats_to_dex_A3\n",
    "del rmats_to_dex_A5\n",
    "del rmats_to_dex_SE\n",
    "del rmats_to_dex_RI\n",
    "\n",
    "rmats_to_dex_MATS[[\"FDR\"]] = rmats_to_dex_MATS[[\"FDR\"]].apply(pd.to_numeric)\n",
    "num_events_rmats_tested = len(rmats_to_dex_MATS)"
   ],
   "metadata": {
    "collapsed": false,
    "ExecuteTime": {
     "end_time": "2024-03-06T23:17:58.282493Z",
     "start_time": "2024-03-06T23:17:57.374359Z"
    }
   },
   "id": "c268b837de2f0558",
   "execution_count": 24
  },
  {
   "cell_type": "markdown",
   "source": [
    "### ^^Now we have all rmats tested events"
   ],
   "metadata": {
    "collapsed": false
   },
   "id": "f300875a515e3f2e"
  },
  {
   "cell_type": "code",
   "outputs": [],
   "source": [
    "events_rmats_sig = rmats_to_dex_MATS.loc[rmats_to_dex_MATS[\"FDR\"] <= .05]\n",
    "num_events_rmats_sig = len(events_rmats_sig)"
   ],
   "metadata": {
    "collapsed": false,
    "ExecuteTime": {
     "end_time": "2024-03-06T23:17:58.292621Z",
     "start_time": "2024-03-06T23:17:58.283811Z"
    }
   },
   "id": "947f8f7a8b8c0539",
   "execution_count": 25
  },
  {
   "cell_type": "markdown",
   "source": [
    "### ^^Now we have all rmats significant events"
   ],
   "metadata": {
    "collapsed": false
   },
   "id": "f7b5867887bb593f"
  },
  {
   "cell_type": "code",
   "outputs": [],
   "source": [
    "rmats_to_dex_ex_MATS = rmats_to_dex_MATS.copy()\n",
    "rmats_to_dex_ex_MATS[\"DexseqFragment\"] = rmats_to_dex_ex_MATS[\"DexseqFragment\"].str.split(\",\")\n",
    "rmats_to_dex_ex_MATS = rmats_to_dex_ex_MATS.explode(\"DexseqFragment\")"
   ],
   "metadata": {
    "collapsed": false,
    "ExecuteTime": {
     "end_time": "2024-03-06T23:17:58.788168Z",
     "start_time": "2024-03-06T23:17:58.293807Z"
    }
   },
   "id": "2ab3dd5a6c294bd0",
   "execution_count": 26
  },
  {
   "cell_type": "markdown",
   "source": [
    "### ^^Now we have all tested events (that have read counts) mapped to each exon in those events (exploded), merged with rMATS results"
   ],
   "metadata": {
    "collapsed": false
   },
   "id": "b640714a70870f95"
  },
  {
   "cell_type": "code",
   "outputs": [],
   "source": [
    "rmats_to_dex_ex_MATS_dexRes = rmats_to_dex_ex_MATS.merge(rmats_to_dex_ex_dexRes, how=\"outer\", on=[\"GeneID\", \"ID\", \"DexseqFragment\"])"
   ],
   "metadata": {
    "collapsed": false,
    "ExecuteTime": {
     "end_time": "2024-03-06T23:17:59.428042Z",
     "start_time": "2024-03-06T23:17:58.789456Z"
    }
   },
   "id": "8592207c635262c2",
   "execution_count": 27
  },
  {
   "cell_type": "markdown",
   "source": [
    "### ^^Now we have all tested events (that have read counts) mapped to each exon in those events (exploded), merged with rMATS results and DEXSeq results"
   ],
   "metadata": {
    "collapsed": false
   },
   "id": "39390e1531a1f3d7"
  },
  {
   "cell_type": "code",
   "outputs": [],
   "source": [
    "events_rmats_tested_dex_sig = rmats_to_dex_ex_MATS_dexRes.loc[((rmats_to_dex_ex_MATS_dexRes[\"ID.1\"].notna()) & (rmats_to_dex_ex_MATS_dexRes[\"padj\"] <= .05))]\n",
    "events_rmats_tested_dex_sig_dedup = events_rmats_tested_dex_sig.drop_duplicates(subset=[\"GeneID\", \"ID\"])\n",
    "num_events_rmats_tested_dex_sig = len(events_rmats_tested_dex_sig_dedup)"
   ],
   "metadata": {
    "collapsed": false,
    "ExecuteTime": {
     "end_time": "2024-03-06T23:17:59.450300Z",
     "start_time": "2024-03-06T23:17:59.431707Z"
    }
   },
   "id": "ad8d353fe2423c0e",
   "execution_count": 28
  },
  {
   "cell_type": "markdown",
   "source": [
    "### ^^Now we have all tested events with at least one significant exon in dexseq"
   ],
   "metadata": {
    "collapsed": false
   },
   "id": "ebfb9b9942b855b8"
  },
  {
   "cell_type": "code",
   "outputs": [],
   "source": [
    "events_rmats_sig_dex_sig = rmats_to_dex_ex_MATS_dexRes[[\"GeneID\", \"ID\", \"FDR\" ,\"DexseqFragment\", \"padj\"]].loc[((rmats_to_dex_ex_MATS_dexRes[\"FDR\"] <= .05) & (rmats_to_dex_ex_MATS_dexRes[\"padj\"] <= .05))].drop_duplicates(subset=[\"GeneID\", \"ID\"])\n",
    "num_events_rmats_sig_dex_sig = len(events_rmats_sig_dex_sig)"
   ],
   "metadata": {
    "collapsed": false,
    "ExecuteTime": {
     "end_time": "2024-03-06T23:17:59.476041Z",
     "start_time": "2024-03-06T23:17:59.451413Z"
    }
   },
   "id": "6e1af73c5537ac1e",
   "execution_count": 29
  },
  {
   "cell_type": "markdown",
   "source": [
    "### ^^Now we have all events that are significant in both rmats and dexseq"
   ],
   "metadata": {
    "collapsed": false
   },
   "id": "83b33d1242ffd0b"
  },
  {
   "cell_type": "code",
   "outputs": [],
   "source": [
    "data = [[\"\", \"\"],\n",
    "        [\"Total Exons Detected\", num_exons],\n",
    "        [\"DEXSeq Tested Exons\", num_exons_dex_tested],\n",
    "        [\"DEXSeq Sig Exons\", num_exons_dex_sig],\n",
    "        [\"rMATS Detected Exons\", num_exons_rmats_detected],\n",
    "        [\"rMATS Tested Exons\", num_exons_rmats_tested],\n",
    "        [\"rMATS Sig Exons\", num_exons_rmats_sig],\n",
    "        [\"\", \"\"],\n",
    "        [\"DEXSeq Tested & rMATS Detected Exons\", num_exons_dex_tested_rmats_detected],\n",
    "        [\"DEXSeq Tested & rMATS Tested Exons\", num_exons_dex_tested_rmats_tested],\n",
    "        [\"DEXSeq Tested & rMATS Sig Exons\", num_exons_dex_tested_rmats_sig],\n",
    "        [\"DEXSeq Sig & rMATS Detected Exons\", num_exons_dex_sig_rmats_detected],\n",
    "        [\"DEXSeq Sig & rMATS Tested Exons\", num_exons_rmats_tested_dex_sig],\n",
    "        [\"DEXSeq Sig & rMATS Sig Exons\", num_exons_dex_sig_rmats_sig],\n",
    "        [\"\", \"\"],\n",
    "        [\"Total Events Detected\", num_events_rmats_detected],\n",
    "        [\"rMATS Tested Events\", num_events_rmats_tested],\n",
    "        [\"rMATS Sig Events\", num_events_rmats_sig],\n",
    "        [\"DEXSeq Detected Events\", ],\n",
    "        [\"DEXSeq Tested Events\", ],\n",
    "        [\"DEXSeq Sig Events\", num_events_rmats_detected_dex_sig],\n",
    "        [\"\", \"\"],\n",
    "        [\"rMATS Tested & DEXSeq Detected Events\", ],\n",
    "        [\"rMATS Tested & DEXSeq Tested Events\", ],\n",
    "        [\"rMATS Tested & DEXSeq Sig Events\", num_events_rmats_tested_dex_sig],\n",
    "        [\"rMATS Sig & DEXSeq Detected Events\", ],\n",
    "        [\"rMATS Sig & DEXSeq Tested Events\", ],\n",
    "        [\"rMATS Sig & DEXSeq Sig Events\", num_events_rmats_sig_dex_sig]]\n",
    "summary_table = pd.DataFrame(data, columns=[\"CountType\", \"Counts\"])"
   ],
   "metadata": {
    "collapsed": false,
    "ExecuteTime": {
     "end_time": "2024-03-06T23:17:59.482502Z",
     "start_time": "2024-03-06T23:17:59.477295Z"
    }
   },
   "id": "b8c1109fc082f8b9",
   "execution_count": 30
  }
 ],
 "metadata": {
  "kernelspec": {
   "display_name": "Python 3",
   "language": "python",
   "name": "python3"
  },
  "language_info": {
   "codemirror_mode": {
    "name": "ipython",
    "version": 2
   },
   "file_extension": ".py",
   "mimetype": "text/x-python",
   "name": "python",
   "nbconvert_exporter": "python",
   "pygments_lexer": "ipython2",
   "version": "2.7.6"
  }
 },
 "nbformat": 4,
 "nbformat_minor": 5
}
