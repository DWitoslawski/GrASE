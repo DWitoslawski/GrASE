{
 "cells": [
  {
   "cell_type": "markdown",
   "source": [
    "# Refactoring This Mess"
   ],
   "metadata": {
    "collapsed": false
   },
   "id": "e80efeb61e52ab3a"
  },
  {
   "cell_type": "markdown",
   "source": [
    "---\n",
    "# First, get the data"
   ],
   "metadata": {
    "collapsed": false
   },
   "id": "be0fc82447b3774d"
  },
  {
   "cell_type": "code",
   "outputs": [],
   "source": [
    "import pandas as pd\n",
    "\n",
    "dexseqResults = pd.read_table(\"/home/dwito/BonnalData/dexseq_rmats_analysis/dexseq_res/bonnal_dexseq_results.txt\")\n",
    "\n",
    "A3SS_MATS = pd.read_table(\"/home/dwito/BonnalData/dexseq_rmats_analysis/rmats_out/A3SS.MATS.JCEC.txt\", dtype=str)\n",
    "A3SS_MATS[\"ID\"] = \"A3SS_\" + A3SS_MATS[\"ID\"].astype(str)\n",
    "\n",
    "A5SS_MATS = pd.read_table(\"/home/dwito/BonnalData/dexseq_rmats_analysis/rmats_out/A5SS.MATS.JCEC.txt\", dtype=str)\n",
    "A5SS_MATS[\"ID\"] = \"A5SS_\" + A5SS_MATS[\"ID\"].astype(str)\n",
    "\n",
    "SE_MATS = pd.read_table(\"/home/dwito/BonnalData/dexseq_rmats_analysis/rmats_out/SE.MATS.JCEC.txt\", dtype=str)\n",
    "SE_MATS[\"ID\"] = \"SE_\" + SE_MATS[\"ID\"].astype(str)\n",
    "\n",
    "RI_MATS = pd.read_table(\"/home/dwito/BonnalData/dexseq_rmats_analysis/rmats_out/RI.MATS.JCEC.txt\", dtype=str)\n",
    "RI_MATS[\"ID\"] = \"RI_\" + RI_MATS[\"ID\"].astype(str)"
   ],
   "metadata": {
    "collapsed": false,
    "ExecuteTime": {
     "end_time": "2024-03-07T00:14:00.004064Z",
     "start_time": "2024-03-07T00:13:57.006753Z"
    }
   },
   "id": "6e741a53dc74565b",
   "execution_count": 1
  },
  {
   "cell_type": "markdown",
   "source": [
    "---\n",
    "# Counting Exons"
   ],
   "metadata": {
    "collapsed": false
   },
   "id": "8b11ef64b809bfec"
  },
  {
   "cell_type": "markdown",
   "source": [
    "## Get dex_to_rmats"
   ],
   "metadata": {
    "collapsed": false
   },
   "id": "47ef96143bf56f6f"
  },
  {
   "cell_type": "code",
   "outputs": [],
   "source": [
    "dex_to_A3SS = pd.read_table(\n",
    "\t\"/home/dwito/merging_rmats_dexseq/genome_wide_analysis_bonnal/Bnaive-CD8naive/grase_results/results/tmp/combined.dexseq.A3SS.mapped.txt\",\n",
    "\tdtype=str)\n",
    "dex_to_A3SS = dex_to_A3SS[dex_to_A3SS[\"GeneID\"] != \"GeneID\"]\n",
    "dex_to_A3SS[\"GeneID\"] = dex_to_A3SS[\"GeneID\"].str.strip()\n",
    "dex_to_A3SS[\"DexseqFragment\"] = dex_to_A3SS[\"DexseqFragment\"].str.strip()\n",
    "dex_to_A3SS = dex_to_A3SS.sort_values(by=[\"GeneID\", \"DexseqFragment\"])\n",
    "dex_to_A3SS = dex_to_A3SS.reset_index(drop=True)\n",
    "\n",
    "dex_to_A5SS = pd.read_table(\n",
    "\t\"/home/dwito/merging_rmats_dexseq/genome_wide_analysis_bonnal/Bnaive-CD8naive/grase_results/results/tmp/combined.dexseq.A5SS.mapped.txt\",\n",
    "\tdtype=str)\n",
    "dex_to_A5SS = dex_to_A5SS[dex_to_A5SS[\"GeneID\"] != \"GeneID\"]\n",
    "dex_to_A5SS[\"GeneID\"] = dex_to_A5SS[\"GeneID\"].str.strip()\n",
    "dex_to_A5SS[\"DexseqFragment\"] = dex_to_A5SS[\"DexseqFragment\"].str.strip()\n",
    "dex_to_A5SS = dex_to_A5SS.sort_values(by=[\"GeneID\", \"DexseqFragment\"])\n",
    "dex_to_A5SS = dex_to_A5SS.reset_index(drop=True)\n",
    "\n",
    "dex_to_SE = pd.read_table(\n",
    "\t\"/home/dwito/merging_rmats_dexseq/genome_wide_analysis_bonnal/Bnaive-CD8naive/grase_results/results/tmp/combined.dexseq.SE.mapped.txt\",\n",
    "\tdtype=str)\n",
    "dex_to_SE = dex_to_SE[dex_to_SE[\"GeneID\"] != \"GeneID\"]\n",
    "dex_to_SE[\"GeneID\"] = dex_to_SE[\"GeneID\"].str.strip()\n",
    "dex_to_SE[\"DexseqFragment\"] = dex_to_SE[\"DexseqFragment\"].str.strip()\n",
    "dex_to_SE = dex_to_SE.sort_values(by=[\"GeneID\", \"DexseqFragment\"])\n",
    "dex_to_SE = dex_to_SE.reset_index(drop=True)\n",
    "\n",
    "dex_to_RI = pd.read_table(\n",
    "\t\"/home/dwito/merging_rmats_dexseq/genome_wide_analysis_bonnal/Bnaive-CD8naive/grase_results/results/tmp/combined.dexseq.RI.mapped.txt\",\n",
    "\tdtype=str)\n",
    "dex_to_RI = dex_to_RI[dex_to_RI[\"GeneID\"] != \"GeneID\"]\n",
    "dex_to_RI[\"GeneID\"] = dex_to_RI[\"GeneID\"].str.strip()\n",
    "dex_to_RI[\"DexseqFragment\"] = dex_to_RI[\"DexseqFragment\"].str.strip()\n",
    "dex_to_RI = dex_to_RI.sort_values(by=[\"GeneID\", \"DexseqFragment\"])\n",
    "dex_to_RI = dex_to_RI.reset_index(drop=True)\n",
    "\n",
    "dex_to_SE_A5 = pd.merge(dex_to_SE, dex_to_A5SS, how=\"outer\", on=[\"GeneID\", \"DexseqFragment\"])\n",
    "del dex_to_SE\n",
    "del dex_to_A5SS\n",
    "dex_to_SE_A5_A3 = pd.merge(dex_to_SE_A5, dex_to_A3SS, how=\"outer\", on=[\"GeneID\", \"DexseqFragment\"])\n",
    "del dex_to_A3SS\n",
    "del dex_to_SE_A5\n",
    "dex_to_rmats = pd.merge(dex_to_SE_A5_A3, dex_to_RI, how=\"outer\", on=[\"GeneID\", \"DexseqFragment\"])\n",
    "del dex_to_RI\n",
    "del dex_to_SE_A5_A3"
   ],
   "metadata": {
    "collapsed": false,
    "ExecuteTime": {
     "end_time": "2024-03-07T00:14:02.351429Z",
     "start_time": "2024-03-07T00:14:00.006351Z"
    }
   },
   "id": "f0c09429c31cca15",
   "execution_count": 2
  },
  {
   "cell_type": "markdown",
   "source": [
    "## Merge dex_to_rmats with DEXSeq results"
   ],
   "metadata": {
    "collapsed": false
   },
   "id": "98277f6e16958d7a"
  },
  {
   "cell_type": "code",
   "outputs": [],
   "source": [
    "dex_to_rmats[\"rMATS_ID\"] = dex_to_rmats[[\"rMATS_ID_A3SS\", \"rMATS_ID_A5SS\", \"rMATS_ID_SE\", \"rMATS_ID_RI\"]].stack().groupby(level=0).agg(','.join)\n",
    "dex_to_rmats = dex_to_rmats.drop(columns=[\"rMATS_ID_A3SS\", \"rMATS_ID_A5SS\", \"rMATS_ID_SE\", \"rMATS_ID_RI\"])\n",
    "\n",
    "dex_to_rmats_dexRes = pd.merge(dexseqResults, dex_to_rmats, how=\"outer\", left_on=[\"groupID\", \"featureID\"],\n",
    "                               right_on=[\"GeneID\", \"DexseqFragment\"])\n",
    "rmatsID_col = dex_to_rmats_dexRes.pop(\"rMATS_ID\")\n",
    "dex_to_rmats_dexRes.insert(2, rmatsID_col.name, rmatsID_col)\n",
    "dex_to_rmats_dexRes[\"groupID\"].fillna(dex_to_rmats_dexRes[\"GeneID\"], inplace=True)\n",
    "dex_to_rmats_dexRes[\"featureID\"].fillna(dex_to_rmats_dexRes[\"DexseqFragment\"], inplace=True)\n",
    "dex_to_rmats_dexRes.drop(columns=[\"GeneID\", \"DexseqFragment\"], inplace=True)\n",
    "dex_to_rmats_dexRes.sort_values(by=[\"groupID\", \"featureID\"], inplace=True)\n",
    "dex_to_rmats_dexRes.reset_index(drop=True, inplace=True)\n",
    "del rmatsID_col"
   ],
   "metadata": {
    "collapsed": false,
    "ExecuteTime": {
     "end_time": "2024-03-07T00:14:10.569761Z",
     "start_time": "2024-03-07T00:14:02.353179Z"
    }
   },
   "id": "8cc398f0d8c59633",
   "execution_count": 3
  },
  {
   "cell_type": "markdown",
   "source": [
    "## Merge dex_to_rmats with rMATS results"
   ],
   "metadata": {
    "collapsed": false
   },
   "id": "425d4dca342cc17a"
  },
  {
   "cell_type": "code",
   "outputs": [],
   "source": [
    "dex_to_rmats_exploded = dex_to_rmats.copy()\n",
    "dex_to_rmats_exploded[\"rMATS_ID\"] = dex_to_rmats_exploded[\"rMATS_ID\"].str.split(\",\")\n",
    "dex_to_rmats_exploded = dex_to_rmats_exploded.explode(\"rMATS_ID\")\n",
    "#dex_to_rmats_exploded[\"rMATS_ID\"] = dex_to_rmats_exploded[\"rMATS_ID\"].astype(str)\n",
    "dex_to_rmats_ex_A3 = dex_to_rmats_exploded.merge(A3SS_MATS, how=\"left\", left_on=[\"GeneID\", \"rMATS_ID\"],\n",
    "                                                 right_on=[\"GeneID\", \"ID\"])\n",
    "dex_to_rmats_ex_A5 = dex_to_rmats_exploded.merge(A5SS_MATS, how=\"left\", left_on=[\"GeneID\", \"rMATS_ID\"],\n",
    "                                                 right_on=[\"GeneID\", \"ID\"])\n",
    "dex_to_rmats_ex_SE = dex_to_rmats_exploded.merge(SE_MATS, how=\"left\", left_on=[\"GeneID\", \"rMATS_ID\"],\n",
    "                                                 right_on=[\"GeneID\", \"ID\"])\n",
    "dex_to_rmats_ex_RI = dex_to_rmats_exploded.merge(RI_MATS, how=\"left\", left_on=[\"GeneID\", \"rMATS_ID\"],\n",
    "                                                 right_on=[\"GeneID\", \"ID\"])\n",
    "\n",
    "dex_to_rmats_ex_MATS = pd.concat([dex_to_rmats_ex_A3, dex_to_rmats_ex_A5, dex_to_rmats_ex_SE, dex_to_rmats_ex_RI])\n",
    "dex_to_rmats_ex_MATS.dropna(subset=\"ID.1\", inplace=True)\n",
    "\n",
    "del dex_to_rmats\n",
    "del dex_to_rmats_ex_A3\n",
    "del dex_to_rmats_ex_A5\n",
    "del dex_to_rmats_ex_SE\n",
    "del dex_to_rmats_ex_RI"
   ],
   "metadata": {
    "collapsed": false,
    "ExecuteTime": {
     "end_time": "2024-03-07T00:14:15.700138Z",
     "start_time": "2024-03-07T00:14:10.571301Z"
    }
   },
   "id": "5d7e54b6cda62733",
   "execution_count": 4
  },
  {
   "cell_type": "markdown",
   "source": [
    "## Merge the merged DEXSeq and rMATS dfs into one large exploded dataframe"
   ],
   "metadata": {
    "collapsed": false
   },
   "id": "ff4e437a64fb7c77"
  },
  {
   "cell_type": "code",
   "outputs": [],
   "source": [
    "dex_to_rmats_ex_dexRes = dex_to_rmats_dexRes.copy()\n",
    "dex_to_rmats_ex_dexRes[\"rMATS_ID\"] = dex_to_rmats_ex_dexRes[\"rMATS_ID\"].str.split(\",\")\n",
    "dex_to_rmats_ex_dexRes = dex_to_rmats_ex_dexRes.explode(\"rMATS_ID\")\n",
    "dex_to_rmats_ex_dexRes_MATS = dex_to_rmats_ex_dexRes.merge(dex_to_rmats_ex_MATS, how=\"left\",\n",
    "                                                           left_on=[\"groupID\", \"rMATS_ID\", \"featureID\"],\n",
    "                                                           right_on=[\"GeneID\", \"rMATS_ID\", \"DexseqFragment\"])\n",
    "dex_to_rmats_ex_dexRes_MATS[[\"padj\", \"FDR\"]] = dex_to_rmats_ex_dexRes_MATS[[\"padj\", \"FDR\"]].apply(pd.to_numeric)\n",
    "del dex_to_rmats_ex_dexRes, dex_to_rmats_ex_MATS"
   ],
   "metadata": {
    "collapsed": false,
    "ExecuteTime": {
     "end_time": "2024-03-07T00:14:19.130230Z",
     "start_time": "2024-03-07T00:14:15.703484Z"
    }
   },
   "id": "9e1023e83e42015",
   "execution_count": 5
  },
  {
   "cell_type": "markdown",
   "source": [
    "# Get DEXSeq and rMATS counts for Detected, Tested, and Significant (DTS) Exons"
   ],
   "metadata": {
    "collapsed": false
   },
   "id": "f0ed0ee4a0301f3c"
  },
  {
   "cell_type": "markdown",
   "source": [
    "### Total Exons Detected (by DEXSeq) comes from the combination of dex_to_rmats and dexRes"
   ],
   "metadata": {
    "collapsed": false
   },
   "id": "9a4de28ef8661fc6"
  },
  {
   "cell_type": "code",
   "outputs": [],
   "source": [
    "num_exons_detected = len(dex_to_rmats_dexRes)"
   ],
   "metadata": {
    "collapsed": false,
    "ExecuteTime": {
     "end_time": "2024-03-07T00:14:19.134837Z",
     "start_time": "2024-03-07T00:14:19.131705Z"
    }
   },
   "id": "db442c95a41cd274",
   "execution_count": 6
  },
  {
   "cell_type": "markdown",
   "source": [
    "### rMATS Detected Exons"
   ],
   "metadata": {
    "collapsed": false
   },
   "id": "58a6c8abdeea5ab"
  },
  {
   "cell_type": "code",
   "outputs": [],
   "source": [
    "exon_rmats_detected = dex_to_rmats_ex_dexRes_MATS.copy()\n",
    "exon_rmats_detected = exon_rmats_detected.loc[exon_rmats_detected[\"rMATS_ID\"].notna()]\n",
    "exon_rmats_detected_dedup = exon_rmats_detected.drop_duplicates(subset=[\"groupID\", \"featureID\"], keep=\"first\")\n",
    "exon_rmats_detected_dedup = exon_rmats_detected_dedup[[\"groupID\", \"featureID\", \"padj\", \"rMATS_ID\"]]\n",
    "num_exons_rmats_detected = len(exon_rmats_detected_dedup)\n",
    "### ^^Now we have an rmats_detected df for all of the exons that are tested by rMATS"
   ],
   "metadata": {
    "collapsed": false,
    "ExecuteTime": {
     "end_time": "2024-03-07T00:14:20.580832Z",
     "start_time": "2024-03-07T00:14:19.135926Z"
    }
   },
   "id": "53296a94a34c621e",
   "execution_count": 7
  },
  {
   "cell_type": "markdown",
   "source": [
    "### rMATS Tested Exons"
   ],
   "metadata": {
    "collapsed": false
   },
   "id": "e676e79846b90d96"
  },
  {
   "cell_type": "code",
   "outputs": [],
   "source": [
    "exon_rmats_tested = dex_to_rmats_ex_dexRes_MATS.copy()\n",
    "exon_rmats_tested = exon_rmats_tested.dropna(subset=\"ID.1\")\n",
    "exon_rmats_tested_dedup = exon_rmats_tested.drop_duplicates(subset=[\"groupID\", \"featureID\"], keep=\"first\")\n",
    "exon_rmats_tested_dedup = exon_rmats_tested_dedup[[\"groupID\", \"featureID\", \"padj\", \"rMATS_ID\"]]\n",
    "num_exons_rmats_tested = len(exon_rmats_tested_dedup)\n",
    "### ^^Now we have an rmats_tested df for all of the exons that have tested events in rMATS"
   ],
   "metadata": {
    "collapsed": false,
    "ExecuteTime": {
     "end_time": "2024-03-07T00:14:21.925044Z",
     "start_time": "2024-03-07T00:14:20.582118Z"
    }
   },
   "id": "b447d057db67aee5",
   "execution_count": 8
  },
  {
   "cell_type": "markdown",
   "source": [
    "### rMATS Significant Exons"
   ],
   "metadata": {
    "collapsed": false
   },
   "id": "ab964f22bd3aa574"
  },
  {
   "cell_type": "code",
   "outputs": [],
   "source": [
    "exon_rmats_sig = dex_to_rmats_ex_dexRes_MATS.copy()\n",
    "exon_rmats_sig = exon_rmats_sig.loc[exon_rmats_sig[\"FDR\"] <= .05]\n",
    "exon_rmats_sig_dedup = exon_rmats_sig.drop_duplicates(subset=[\"groupID\", \"featureID\"], keep=\"first\")\n",
    "exon_rmats_sig_dedup = exon_rmats_sig_dedup.iloc[:, 19:]\n",
    "num_exons_rmats_sig = len(exon_rmats_sig_dedup)\n",
    "### ^^Now we have an rmats_sig df for all of the exons that have a significant event in rMATS"
   ],
   "metadata": {
    "collapsed": false,
    "ExecuteTime": {
     "end_time": "2024-03-07T00:14:23.065400Z",
     "start_time": "2024-03-07T00:14:21.926349Z"
    }
   },
   "id": "590f890292cbd98a",
   "execution_count": 9
  },
  {
   "cell_type": "markdown",
   "source": [
    "### DEXSeq Tested Exons"
   ],
   "metadata": {
    "collapsed": false
   },
   "id": "b4938bc0434727b7"
  },
  {
   "cell_type": "code",
   "outputs": [],
   "source": [
    "exon_dex_tested = dex_to_rmats_ex_dexRes_MATS.copy()\n",
    "exon_dex_tested = exon_dex_tested.dropna(subset=\"padj\")\n",
    "exon_dex_tested_dedup = exon_dex_tested.drop_duplicates(subset=[\"groupID\", \"featureID\"], keep=\"first\")\n",
    "exon_dex_tested_dedup = exon_dex_tested_dedup[[\"groupID\", \"featureID\", \"padj\", \"rMATS_ID\"]]\n",
    "num_exons_dex_tested = len(exon_dex_tested_dedup)"
   ],
   "metadata": {
    "collapsed": false,
    "ExecuteTime": {
     "end_time": "2024-03-07T00:14:24.597638Z",
     "start_time": "2024-03-07T00:14:23.066729Z"
    }
   },
   "id": "4a4cfc2b113fa3f9",
   "execution_count": 10
  },
  {
   "cell_type": "markdown",
   "source": [
    "### Get DEXSeq Tested Exons Intersected with rMATS DTS"
   ],
   "metadata": {
    "collapsed": false
   },
   "id": "d86fc5c67c8be60"
  },
  {
   "cell_type": "code",
   "outputs": [],
   "source": [
    "exon_dex_tested_rmats_detected = exon_dex_tested.copy()\n",
    "exon_dex_tested_rmats_detected = exon_dex_tested_rmats_detected.loc[exon_dex_tested_rmats_detected[\"rMATS_ID\"].notna()]\n",
    "exon_dex_tested_rmats_detected_dedup = exon_dex_tested_rmats_detected.drop_duplicates(subset=[\"groupID\", \"featureID\"], keep=\"first\")\n",
    "exon_dex_tested_rmats_detected_dedup = exon_dex_tested_rmats_detected_dedup[[\"groupID\", \"featureID\", \"padj\", \"rMATS_ID\"]]\n",
    "num_exons_dex_tested_rmats_detected = len(exon_dex_tested_rmats_detected_dedup)\n",
    "## ^^Now we have the number of exons tested by DEXSeq and detected by rMATS\n",
    "\n",
    "exon_dex_tested_rmats_tested = exon_dex_tested.copy()\n",
    "exon_dex_tested_rmats_tested = exon_dex_tested_rmats_tested.loc[exon_dex_tested_rmats_tested[\"ID.1\"].notna()]\n",
    "exon_dex_tested_rmats_tested_dedup = exon_dex_tested_rmats_tested.drop_duplicates(subset=[\"groupID\", \"featureID\"], keep=\"first\")\n",
    "exon_dex_tested_rmats_tested_dedup = exon_dex_tested_rmats_tested_dedup[[\"groupID\", \"featureID\", \"padj\", \"rMATS_ID\"]]\n",
    "num_exons_dex_tested_rmats_tested = len(exon_dex_tested_rmats_tested_dedup)\n",
    "### ^^Now we have the number of exons tested by DEXSeq and tested by rMATS\n",
    "\n",
    "exon_dex_tested_rmats_sig = exon_dex_tested.copy()\n",
    "exon_dex_tested_rmats_sig = exon_dex_tested_rmats_sig.loc[exon_dex_tested_rmats_sig[\"FDR\"] <= .05]\n",
    "exon_dex_tested_rmats_sig_dedup = exon_dex_tested_rmats_sig.drop_duplicates(subset=[\"groupID\", \"featureID\"], keep=\"first\")\n",
    "exon_dex_tested_rmats_sig_dedup = exon_dex_tested_rmats_sig_dedup[[\"groupID\", \"featureID\", \"padj\", \"rMATS_ID\"]]\n",
    "num_exons_dex_tested_rmats_sig = len(exon_dex_tested_rmats_sig_dedup)\n",
    "### ^^Now we have the number of exons tested by DEXSeq and significant in rMATS"
   ],
   "metadata": {
    "collapsed": false,
    "ExecuteTime": {
     "end_time": "2024-03-07T00:14:25.573798Z",
     "start_time": "2024-03-07T00:14:24.599328Z"
    }
   },
   "id": "d7e6d5dec1e114f3",
   "execution_count": 11
  },
  {
   "cell_type": "markdown",
   "source": [
    "### DEXSeq Significant Exons"
   ],
   "metadata": {
    "collapsed": false
   },
   "id": "df1c0ecf587b11fb"
  },
  {
   "cell_type": "code",
   "outputs": [],
   "source": [
    "exon_dex_sig = dex_to_rmats_ex_dexRes_MATS.copy()\n",
    "exon_dex_sig = exon_dex_sig.loc[exon_dex_sig[\"padj\"] <= .05]\n",
    "exon_dex_sig_dedup = exon_dex_sig.drop_duplicates(subset=[\"groupID\", \"featureID\"], keep=\"first\")\n",
    "exon_dex_sig_dedup = exon_dex_sig_dedup[[\"groupID\", \"featureID\", \"padj\", \"rMATS_ID\"]]\n",
    "num_exons_dex_sig = len(exon_dex_sig_dedup)"
   ],
   "metadata": {
    "collapsed": false,
    "ExecuteTime": {
     "end_time": "2024-03-07T00:14:26.702515Z",
     "start_time": "2024-03-07T00:14:25.575166Z"
    }
   },
   "id": "31679f9a3756d8ba",
   "execution_count": 12
  },
  {
   "cell_type": "markdown",
   "source": [
    "### Get DEXSeq Significant Exons Intersected with rMATS DTS"
   ],
   "metadata": {
    "collapsed": false
   },
   "id": "1e4dd6a2763a4ada"
  },
  {
   "cell_type": "code",
   "outputs": [],
   "source": [
    "exon_dex_sig_rmats_detected = exon_dex_sig.copy()\n",
    "exon_dex_sig_rmats_detected = exon_dex_sig_rmats_detected.loc[exon_dex_sig_rmats_detected[\"rMATS_ID\"].notna()]\n",
    "exon_dex_sig_rmats_detected_dedup = exon_dex_sig_rmats_detected.drop_duplicates(subset=[\"groupID\", \"featureID\"], keep=\"first\")\n",
    "exon_dex_sig_rmats_detected_dedup = exon_dex_sig_rmats_detected_dedup[[\"groupID\", \"featureID\", \"padj\", \"rMATS_ID\"]]\n",
    "num_exons_dex_sig_rmats_detected = len(exon_dex_sig_rmats_detected_dedup)\n",
    "## ^^Now we have the number of exons significant in DEXSeq and detected by rMATS\n",
    "\n",
    "exon_dex_sig_rmats_tested = exon_dex_sig.copy()\n",
    "exon_dex_sig_rmats_tested = exon_dex_sig_rmats_tested.loc[exon_dex_sig_rmats_tested[\"ID.1\"].notna()]\n",
    "exon_dex_sig_rmats_tested_dedup = exon_dex_sig_rmats_tested.drop_duplicates(subset=[\"groupID\", \"featureID\"], keep=\"first\")\n",
    "exon_dex_sig_rmats_tested_dedup = exon_dex_sig_rmats_tested_dedup[[\"groupID\", \"featureID\", \"padj\", \"rMATS_ID\"]]\n",
    "num_exons_dex_sig_rmats_tested = len(exon_dex_sig_rmats_tested_dedup)\n",
    "### ^^Now we have the number of exons significant in DEXSeq and tested by rMATS\n",
    "\n",
    "exon_dex_sig_rmats_sig = exon_dex_sig.copy()\n",
    "exon_dex_sig_rmats_sig = exon_dex_sig_rmats_sig.loc[exon_dex_sig_rmats_sig[\"FDR\"] <= .05]\n",
    "exon_dex_sig_rmats_sig_dedup = exon_dex_sig_rmats_sig.drop_duplicates(subset=[\"groupID\", \"featureID\"], keep=\"first\")\n",
    "exon_dex_sig_rmats_sig_dedup = exon_dex_sig_rmats_sig_dedup[[\"groupID\", \"featureID\", \"padj\", \"rMATS_ID\"]]\n",
    "num_exons_dex_sig_rmats_sig = len(exon_dex_sig_rmats_sig_dedup)\n",
    "### ^^Now we have the number of exons significant in DEXSeq and significant in rMATS"
   ],
   "metadata": {
    "collapsed": false,
    "ExecuteTime": {
     "end_time": "2024-03-07T00:14:26.723024Z",
     "start_time": "2024-03-07T00:14:26.703863Z"
    }
   },
   "id": "f503305371693b5d",
   "execution_count": 13
  },
  {
   "cell_type": "markdown",
   "source": [
    "---\n",
    "# Counting Events"
   ],
   "metadata": {
    "collapsed": false
   },
   "id": "b946f0b2ce32ab97"
  },
  {
   "cell_type": "markdown",
   "source": [
    "## Get rmats_to_dex"
   ],
   "metadata": {
    "collapsed": false
   },
   "id": "14f9f90e8921aa73"
  },
  {
   "cell_type": "code",
   "outputs": [],
   "source": [
    "A3SS_to_dex = pd.read_table(\n",
    "    \"/home/dwito/merging_rmats_dexseq/genome_wide_analysis_bonnal/Bnaive-CD8naive/grase_results/results/tmp/combined.fromGTF.A3SS.txt\",\n",
    "\tdtype=str)\n",
    "A3SS_to_dex = A3SS_to_dex[A3SS_to_dex[\"GeneID\"] != \"GeneID\"]\n",
    "A3SS_to_dex[\"ID\"] = \"A3SS_\" + A3SS_to_dex[\"ID\"].astype(str)\n",
    "\n",
    "A5SS_to_dex = pd.read_table(\n",
    "\t\"/home/dwito/merging_rmats_dexseq/genome_wide_analysis_bonnal/Bnaive-CD8naive/grase_results/results/tmp/combined.fromGTF.A5SS.txt\",\n",
    "\tdtype=str)\n",
    "A5SS_to_dex = A5SS_to_dex[A5SS_to_dex[\"GeneID\"] != \"GeneID\"]\n",
    "A5SS_to_dex[\"ID\"] = \"A5SS_\" + A5SS_to_dex[\"ID\"].astype(str)\n",
    "\n",
    "SE_to_dex = pd.read_table(\n",
    "\t\"/home/dwito/merging_rmats_dexseq/genome_wide_analysis_bonnal/Bnaive-CD8naive/grase_results/results/tmp/combined.fromGTF.SE.txt\",\n",
    "\tdtype=str)\n",
    "SE_to_dex = SE_to_dex[SE_to_dex[\"GeneID\"] != \"GeneID\"]\n",
    "SE_to_dex[\"ID\"] = \"SE_\" + SE_to_dex[\"ID\"].astype(str)\n",
    "\n",
    "RI_to_dex = pd.read_table(\n",
    "\t\"/home/dwito/merging_rmats_dexseq/genome_wide_analysis_bonnal/Bnaive-CD8naive/grase_results/results/tmp/combined.fromGTF.RI.txt\",\n",
    "\tdtype=str)\n",
    "RI_to_dex = RI_to_dex[RI_to_dex[\"GeneID\"] != \"GeneID\"]\n",
    "RI_to_dex[\"ID\"] = \"RI_\" + RI_to_dex[\"ID\"].astype(str)\n",
    "\n",
    "rmats_to_dex = pd.concat([A3SS_to_dex, A5SS_to_dex, SE_to_dex, RI_to_dex])\n",
    "del A3SS_to_dex, A5SS_to_dex, RI_to_dex, SE_to_dex\n",
    "rmats_to_dex.sort_values(by=[\"GeneID\", \"ID\"], inplace=True)\n",
    "rmats_to_dex.reset_index(drop=True, inplace=True)"
   ],
   "metadata": {
    "collapsed": false,
    "ExecuteTime": {
     "end_time": "2024-03-07T00:14:27.081551Z",
     "start_time": "2024-03-07T00:14:26.726408Z"
    }
   },
   "id": "9bb4613da0edf60f",
   "execution_count": 14
  },
  {
   "cell_type": "markdown",
   "source": [
    "## Merge rmats_to_dex with rMATS results"
   ],
   "metadata": {
    "collapsed": false
   },
   "id": "606f50769e301faa"
  },
  {
   "cell_type": "code",
   "outputs": [
    {
     "ename": "NameError",
     "evalue": "name 'rmats_to_dex' is not defined",
     "output_type": "error",
     "traceback": [
      "\u001B[0;31m---------------------------------------------------------------------------\u001B[0m",
      "\u001B[0;31mNameError\u001B[0m                                 Traceback (most recent call last)",
      "Cell \u001B[0;32mIn[27], line 1\u001B[0m\n\u001B[0;32m----> 1\u001B[0m rmats_to_dex_A3 \u001B[38;5;241m=\u001B[39m rmats_to_dex\u001B[38;5;241m.\u001B[39mmerge(A3SS_MATS, how\u001B[38;5;241m=\u001B[39m\u001B[38;5;124m\"\u001B[39m\u001B[38;5;124mleft\u001B[39m\u001B[38;5;124m\"\u001B[39m, on\u001B[38;5;241m=\u001B[39m[\u001B[38;5;124m\"\u001B[39m\u001B[38;5;124mGeneID\u001B[39m\u001B[38;5;124m\"\u001B[39m, \u001B[38;5;124m\"\u001B[39m\u001B[38;5;124mID\u001B[39m\u001B[38;5;124m\"\u001B[39m])\n\u001B[1;32m      2\u001B[0m \u001B[38;5;66;03m#del A3SS_MATS\u001B[39;00m\n\u001B[1;32m      3\u001B[0m rmats_to_dex_A5 \u001B[38;5;241m=\u001B[39m rmats_to_dex\u001B[38;5;241m.\u001B[39mmerge(A5SS_MATS, how\u001B[38;5;241m=\u001B[39m\u001B[38;5;124m\"\u001B[39m\u001B[38;5;124mleft\u001B[39m\u001B[38;5;124m\"\u001B[39m, on\u001B[38;5;241m=\u001B[39m[\u001B[38;5;124m\"\u001B[39m\u001B[38;5;124mGeneID\u001B[39m\u001B[38;5;124m\"\u001B[39m, \u001B[38;5;124m\"\u001B[39m\u001B[38;5;124mID\u001B[39m\u001B[38;5;124m\"\u001B[39m])\n",
      "\u001B[0;31mNameError\u001B[0m: name 'rmats_to_dex' is not defined"
     ]
    }
   ],
   "source": [
    "rmats_to_dex_A3 = rmats_to_dex.merge(A3SS_MATS, how=\"left\", on=[\"GeneID\", \"ID\"])\n",
    "#del A3SS_MATS\n",
    "rmats_to_dex_A5 = rmats_to_dex.merge(A5SS_MATS, how=\"left\", on=[\"GeneID\", \"ID\"])\n",
    "#del A5SS_MATS\n",
    "rmats_to_dex_SE = rmats_to_dex.merge(SE_MATS, how=\"left\", on=[\"GeneID\", \"ID\"])\n",
    "#del SE_MATS\n",
    "rmats_to_dex_RI = rmats_to_dex.merge(RI_MATS, how=\"left\", on=[\"GeneID\", \"ID\"])\n",
    "#del RI_MATS\n",
    "\n",
    "rmats_to_dex_MATS = pd.concat([rmats_to_dex_A3, rmats_to_dex_A5, rmats_to_dex_SE, rmats_to_dex_RI])\n",
    "rmats_to_dex_MATS.dropna(subset=\"ID.1\", inplace=True)\n",
    "\n",
    "del rmats_to_dex_A3\n",
    "del rmats_to_dex_A5\n",
    "del rmats_to_dex_SE\n",
    "del rmats_to_dex_RI"
   ],
   "metadata": {
    "collapsed": false,
    "ExecuteTime": {
     "end_time": "2024-03-07T00:24:44.753733Z",
     "start_time": "2024-03-07T00:24:44.165233Z"
    }
   },
   "id": "8a15b35a18fc3e47",
   "execution_count": 27
  },
  {
   "cell_type": "markdown",
   "source": [
    "## Merge rmats_to_dex with DEXSeq results"
   ],
   "metadata": {
    "collapsed": false
   },
   "id": "72d0c410e2d46f54"
  },
  {
   "cell_type": "code",
   "outputs": [],
   "source": [
    "rmats_to_dex_exploded = rmats_to_dex.copy()\n",
    "rmats_to_dex_exploded[\"DexseqFragment\"] = rmats_to_dex_exploded[\"DexseqFragment\"].str.split(\",\")\n",
    "rmats_to_dex_exploded = rmats_to_dex_exploded.explode(\"DexseqFragment\")\n",
    "### ^^Now we have all rmats detected events mapped to each relevant dexseq exon (separated by rows - exploded)\n",
    "rmats_to_dex_ex_dexRes = rmats_to_dex_exploded.merge(\n",
    "\tdexseqResults.rename(columns={\"groupID\": \"GeneID\", \"featureID\": \"DexseqFragment\"}), how=\"left\",\n",
    "\ton=[\"GeneID\", \"DexseqFragment\"])\n",
    "del rmats_to_dex_exploded\n",
    "#rmats_to_dex_ex_dexRes[[\"padj\"]] = rmats_to_dex_ex_dexRes[[\"padj\"]].apply(pd.to_numeric)"
   ],
   "metadata": {
    "collapsed": false,
    "ExecuteTime": {
     "end_time": "2024-03-07T00:14:28.742465Z",
     "start_time": "2024-03-07T00:14:28.030233Z"
    }
   },
   "id": "c7f980386a9bfcf6",
   "execution_count": 16
  },
  {
   "cell_type": "markdown",
   "source": [
    "## Merge the merged rMATS and DEXSeq dfs into one large exploded dataframe"
   ],
   "metadata": {
    "collapsed": false
   },
   "id": "65877004ae8eeab6"
  },
  {
   "cell_type": "code",
   "outputs": [],
   "source": [
    "rmats_to_dex_ex_MATS = rmats_to_dex_MATS.copy()\n",
    "rmats_to_dex_ex_MATS[\"DexseqFragment\"] = rmats_to_dex_ex_MATS[\"DexseqFragment\"].str.split(\",\")\n",
    "rmats_to_dex_ex_MATS = rmats_to_dex_ex_MATS.explode(\"DexseqFragment\")\n",
    "### ^^Now we have all tested events (that have read counts) mapped to each exon in those events (exploded), merged with rMATS results\n",
    "rmats_to_dex_ex_MATS_dexRes = rmats_to_dex_ex_MATS.merge(rmats_to_dex_ex_dexRes, how=\"outer\",\n",
    "                                                         on=[\"GeneID\", \"ID\", \"DexseqFragment\"])\n",
    "rmats_to_dex_ex_MATS_dexRes[[\"padj\", \"FDR\"]] = rmats_to_dex_ex_MATS_dexRes[[\"padj\", \"FDR\"]].apply(pd.to_numeric)\n",
    "### ^^Now we have all tested events (that have read counts) mapped to each exon in those events (exploded), merged with rMATS results and DEXSeq results"
   ],
   "metadata": {
    "collapsed": false,
    "ExecuteTime": {
     "end_time": "2024-03-07T00:14:29.990491Z",
     "start_time": "2024-03-07T00:14:28.743907Z"
    }
   },
   "id": "d724fcbaa92b5f95",
   "execution_count": 17
  },
  {
   "cell_type": "markdown",
   "source": [
    "# Get rMATS and DEXSeq counts for DTS Events"
   ],
   "metadata": {
    "collapsed": false
   },
   "id": "d0e16985866a7c"
  },
  {
   "cell_type": "markdown",
   "source": [
    "### Total Events Detected (by rMATS and by DEXSeq) comes from rmats_to_dex"
   ],
   "metadata": {
    "collapsed": false
   },
   "id": "7912db4a99408588"
  },
  {
   "cell_type": "code",
   "outputs": [],
   "source": [
    "num_events_detected = len(rmats_to_dex)\n",
    "del rmats_to_dex, rmats_to_dex_ex_dexRes, rmats_to_dex_ex_MATS"
   ],
   "metadata": {
    "collapsed": false,
    "ExecuteTime": {
     "end_time": "2024-03-07T00:14:30.033068Z",
     "start_time": "2024-03-07T00:14:29.991917Z"
    }
   },
   "id": "d4e5db018cd338b1",
   "execution_count": 18
  },
  {
   "cell_type": "markdown",
   "source": [
    "### DEXSeq Tested Events"
   ],
   "metadata": {
    "collapsed": false
   },
   "id": "d7278e2e3c2d1c95"
  },
  {
   "cell_type": "code",
   "outputs": [],
   "source": [
    "event_dex_tested = rmats_to_dex_ex_MATS_dexRes.copy()\n",
    "event_dex_tested = event_dex_tested.loc[event_dex_tested[\"padj\"].notna()]\n",
    "event_dex_tested_dedup = event_dex_tested.drop_duplicates(subset=[\"GeneID\", \"ID\"], keep=\"first\")\n",
    "event_dex_tested_dedup = event_dex_tested_dedup[[\"GeneID\", \"ID\", \"DexseqFragment\",\"padj\"]]\n",
    "num_events_dex_tested = len(event_dex_tested_dedup)"
   ],
   "metadata": {
    "collapsed": false,
    "ExecuteTime": {
     "end_time": "2024-03-07T00:14:30.585893Z",
     "start_time": "2024-03-07T00:14:30.034364Z"
    }
   },
   "id": "15401cf1f7587313",
   "execution_count": 19
  },
  {
   "cell_type": "markdown",
   "source": [
    "### DEXSeq Significant Events"
   ],
   "metadata": {
    "collapsed": false
   },
   "id": "b1cd108c89573daf"
  },
  {
   "cell_type": "code",
   "outputs": [],
   "source": [
    "event_dex_sig = rmats_to_dex_ex_MATS_dexRes.copy()\n",
    "event_dex_sig = event_dex_sig.loc[event_dex_sig[\"padj\"] <= .05]\n",
    "event_dex_sig_dedup = event_dex_sig.drop_duplicates(subset=[\"GeneID\", \"ID\"], keep=\"first\")\n",
    "event_dex_sig_dedup = event_dex_sig_dedup[[\"GeneID\", \"ID\", \"DexseqFragment\",\"padj\"]]\n",
    "num_events_dex_sig = len(event_dex_sig_dedup)"
   ],
   "metadata": {
    "collapsed": false,
    "ExecuteTime": {
     "end_time": "2024-03-07T00:14:30.976119Z",
     "start_time": "2024-03-07T00:14:30.587305Z"
    }
   },
   "id": "4c8dbcc16b35bb36",
   "execution_count": 20
  },
  {
   "cell_type": "markdown",
   "source": [
    "### rMATS Tested Events"
   ],
   "metadata": {
    "collapsed": false
   },
   "id": "cc5fd2c55309147e"
  },
  {
   "cell_type": "code",
   "outputs": [],
   "source": [
    "event_rmats_tested = rmats_to_dex_ex_MATS_dexRes.copy()\n",
    "event_rmats_tested = event_rmats_tested.dropna(subset=\"ID.1\")\n",
    "event_rmats_tested_dedup = event_rmats_tested.drop_duplicates(subset=[\"GeneID\", \"ID\"], keep=\"first\")\n",
    "event_rmats_tested_dedup = event_rmats_tested_dedup[[\"GeneID\", \"ID\", \"FDR\", \"DexseqFragment\",\"padj\"]]\n",
    "num_events_rmats_tested = len(event_rmats_tested_dedup)"
   ],
   "metadata": {
    "collapsed": false,
    "ExecuteTime": {
     "end_time": "2024-03-07T00:14:31.568853Z",
     "start_time": "2024-03-07T00:14:30.977500Z"
    }
   },
   "id": "b9d1b4c480ea481a",
   "execution_count": 21
  },
  {
   "cell_type": "markdown",
   "source": [
    "### Get rMATS Tested Events Intersected with DEXSeq TS (D is just rmats_tested)"
   ],
   "metadata": {
    "collapsed": false
   },
   "id": "4e793cea854dfd3"
  },
  {
   "cell_type": "code",
   "outputs": [],
   "source": [
    "event_rmats_tested_dex_tested = event_rmats_tested.copy()\n",
    "event_rmats_tested_dex_tested = event_rmats_tested_dex_tested.loc[event_rmats_tested_dex_tested[\"padj\"].notna()]\n",
    "event_rmats_tested_dex_tested_dedup = event_rmats_tested_dex_tested.drop_duplicates(subset=[\"GeneID\", \"ID\"], keep=\"first\")\n",
    "event_rmats_tested_dex_tested_dedup = event_rmats_tested_dex_tested_dedup[[\"GeneID\", \"ID\", \"FDR\", \"DexseqFragment\",\"padj\"]]\n",
    "num_events_rmats_tested_dex_tested = len(event_rmats_tested_dex_tested_dedup)\n",
    "\n",
    "event_rmats_tested_dex_sig = event_rmats_tested.copy()\n",
    "event_rmats_tested_dex_sig = event_rmats_tested_dex_sig.loc[event_rmats_tested_dex_sig[\"padj\"] <= .05]\n",
    "event_rmats_tested_dex_sig_dedup = event_rmats_tested_dex_sig.drop_duplicates(subset=[\"GeneID\", \"ID\"], keep=\"first\")\n",
    "event_rmats_tested_dex_sig_dedup = event_rmats_tested_dex_sig_dedup[[\"GeneID\", \"ID\", \"FDR\", \"DexseqFragment\",\"padj\"]]\n",
    "num_events_rmats_tested_dex_sig = len(event_rmats_tested_dex_sig_dedup)"
   ],
   "metadata": {
    "collapsed": false,
    "ExecuteTime": {
     "end_time": "2024-03-07T00:14:31.938961Z",
     "start_time": "2024-03-07T00:14:31.570224Z"
    }
   },
   "id": "5d77cdc58ed461bd",
   "execution_count": 22
  },
  {
   "cell_type": "markdown",
   "source": [
    "### rMATS Significant Events"
   ],
   "metadata": {
    "collapsed": false
   },
   "id": "8952b7305639ad7c"
  },
  {
   "cell_type": "code",
   "outputs": [],
   "source": [
    "event_rmats_sig = rmats_to_dex_ex_MATS_dexRes.copy()\n",
    "event_rmats_sig = event_rmats_sig.loc[event_rmats_sig[\"FDR\"] <= .05]\n",
    "event_rmats_sig_dedup = event_rmats_sig.drop_duplicates(subset=[\"GeneID\", \"ID\"], keep=\"first\")\n",
    "event_rmats_sig_dedup = event_rmats_sig_dedup[[\"GeneID\", \"ID\", \"FDR\", \"DexseqFragment\",\"padj\"]]\n",
    "num_events_rmats_sig = len(event_rmats_sig_dedup)"
   ],
   "metadata": {
    "collapsed": false,
    "ExecuteTime": {
     "end_time": "2024-03-07T00:14:32.354005Z",
     "start_time": "2024-03-07T00:14:31.940331Z"
    }
   },
   "id": "1ff0dcf7a3e39cb",
   "execution_count": 23
  },
  {
   "cell_type": "markdown",
   "source": [
    "### Get rMATS Significant Events Intersected with DEXSeq TS (D is just rmats_sig)"
   ],
   "metadata": {
    "collapsed": false
   },
   "id": "e9a456d3f549f589"
  },
  {
   "cell_type": "code",
   "outputs": [],
   "source": [
    "event_rmats_sig_dex_tested = event_rmats_sig.copy()\n",
    "event_rmats_sig_dex_tested = event_rmats_sig_dex_tested.loc[event_rmats_sig_dex_tested[\"padj\"].notna()]\n",
    "event_rmats_sig_dex_tested_dedup = event_rmats_sig_dex_tested.drop_duplicates(subset=[\"GeneID\", \"ID\"], keep=\"first\")\n",
    "event_rmats_sig_dex_tested_dedup = event_rmats_sig_dex_tested_dedup[[\"GeneID\", \"ID\", \"FDR\", \"DexseqFragment\",\"padj\"]]\n",
    "num_events_rmats_sig_dex_tested = len(event_rmats_sig_dex_tested_dedup)\n",
    "\n",
    "event_rmats_sig_dex_sig = event_rmats_sig.copy()\n",
    "event_rmats_sig_dex_sig = event_rmats_sig_dex_sig.loc[event_rmats_sig_dex_sig[\"padj\"] <= .05]\n",
    "event_rmats_sig_dex_sig_dedup = event_rmats_sig_dex_sig.drop_duplicates(subset=[\"GeneID\", \"ID\"], keep=\"first\")\n",
    "event_rmats_sig_dex_sig_dedup = event_rmats_sig_dex_sig_dedup[[\"GeneID\", \"ID\", \"FDR\", \"DexseqFragment\",\"padj\"]]\n",
    "num_events_rmats_sig_dex_sig = len(event_rmats_sig_dex_sig_dedup)"
   ],
   "metadata": {
    "collapsed": false,
    "ExecuteTime": {
     "end_time": "2024-03-07T00:14:32.379585Z",
     "start_time": "2024-03-07T00:14:32.355411Z"
    }
   },
   "id": "3138685dbfe1305e",
   "execution_count": 24
  },
  {
   "cell_type": "code",
   "outputs": [
    {
     "data": {
      "text/plain": "'#A3SS_to_dex = A3SS_to_dex.sort_values(by=[\"GeneID\", \"ID\"])\\n### ^^Now we have all rmats detected events mapped to dexseq exons (in a comma separated list)\\n\\nevents_rmats_detected_dex_sig = rmats_to_dex_ex_dexRes.loc[rmats_to_dex_ex_dexRes[\"padj\"] <= .05]\\nevents_rmats_detected_dex_sig_dedup = events_rmats_detected_dex_sig.drop_duplicates(subset=[\"GeneID\", \"ID\"],\\n                                                                                    keep=\"first\")\\nnum_events_rmats_detected_dex_sig = len(events_rmats_detected_dex_sig_dedup)\\n### ^^Now we have all rmats detected events that have at least one dexseq significant exon\\n\\n\\nrmats_to_dex_MATS[[\"FDR\"]] = rmats_to_dex_MATS[[\"FDR\"]].apply(pd.to_numeric)\\n\\n### ^^Now we have all rmats tested events\\nevents_rmats_sig = rmats_to_dex_MATS.loc[rmats_to_dex_MATS[\"FDR\"] <= .05]\\nnum_events_rmats_sig = len(events_rmats_sig)\\n### ^^Now we have all rmats significant events\\n\\nevents_rmats_tested_dex_sig = rmats_to_dex_ex_MATS_dexRes.loc[\\n\\t((rmats_to_dex_ex_MATS_dexRes[\"ID.1\"].notna()) & (rmats_to_dex_ex_MATS_dexRes[\"padj\"] <= .05))]\\nevents_rmats_tested_dex_sig_dedup = events_rmats_tested_dex_sig.drop_duplicates(subset=[\"GeneID\", \"ID\"])\\nnum_events_rmats_tested_dex_sig = len(events_rmats_tested_dex_sig_dedup)\\n### ^^Now we have all tested events with at least one significant exon in dexseq\\nevents_rmats_sig_dex_sig = rmats_to_dex_ex_MATS_dexRes[[\"GeneID\", \"ID\", \"FDR\", \"DexseqFragment\", \"padj\"]].loc[\\n\\t((rmats_to_dex_ex_MATS_dexRes[\"FDR\"] <= .05) & (rmats_to_dex_ex_MATS_dexRes[\"padj\"] <= .05))].drop_duplicates(\\n\\tsubset=[\"GeneID\", \"ID\"])\\nnum_events_rmats_sig_dex_sig = len(events_rmats_sig_dex_sig)\\n### ^^Now we have all events that are significant in both rmats and dexseq'"
     },
     "execution_count": 25,
     "metadata": {},
     "output_type": "execute_result"
    }
   ],
   "source": [
    "\n",
    "'''#A3SS_to_dex = A3SS_to_dex.sort_values(by=[\"GeneID\", \"ID\"])\n",
    "### ^^Now we have all rmats detected events mapped to dexseq exons (in a comma separated list)\n",
    "\n",
    "events_rmats_detected_dex_sig = rmats_to_dex_ex_dexRes.loc[rmats_to_dex_ex_dexRes[\"padj\"] <= .05]\n",
    "events_rmats_detected_dex_sig_dedup = events_rmats_detected_dex_sig.drop_duplicates(subset=[\"GeneID\", \"ID\"],\n",
    "                                                                                    keep=\"first\")\n",
    "num_events_rmats_detected_dex_sig = len(events_rmats_detected_dex_sig_dedup)\n",
    "### ^^Now we have all rmats detected events that have at least one dexseq significant exon\n",
    "\n",
    "\n",
    "rmats_to_dex_MATS[[\"FDR\"]] = rmats_to_dex_MATS[[\"FDR\"]].apply(pd.to_numeric)\n",
    "\n",
    "### ^^Now we have all rmats tested events\n",
    "events_rmats_sig = rmats_to_dex_MATS.loc[rmats_to_dex_MATS[\"FDR\"] <= .05]\n",
    "num_events_rmats_sig = len(events_rmats_sig)\n",
    "### ^^Now we have all rmats significant events\n",
    "\n",
    "events_rmats_tested_dex_sig = rmats_to_dex_ex_MATS_dexRes.loc[\n",
    "\t((rmats_to_dex_ex_MATS_dexRes[\"ID.1\"].notna()) & (rmats_to_dex_ex_MATS_dexRes[\"padj\"] <= .05))]\n",
    "events_rmats_tested_dex_sig_dedup = events_rmats_tested_dex_sig.drop_duplicates(subset=[\"GeneID\", \"ID\"])\n",
    "num_events_rmats_tested_dex_sig = len(events_rmats_tested_dex_sig_dedup)\n",
    "### ^^Now we have all tested events with at least one significant exon in dexseq\n",
    "events_rmats_sig_dex_sig = rmats_to_dex_ex_MATS_dexRes[[\"GeneID\", \"ID\", \"FDR\", \"DexseqFragment\", \"padj\"]].loc[\n",
    "\t((rmats_to_dex_ex_MATS_dexRes[\"FDR\"] <= .05) & (rmats_to_dex_ex_MATS_dexRes[\"padj\"] <= .05))].drop_duplicates(\n",
    "\tsubset=[\"GeneID\", \"ID\"])\n",
    "num_events_rmats_sig_dex_sig = len(events_rmats_sig_dex_sig)\n",
    "### ^^Now we have all events that are significant in both rmats and dexseq'''"
   ],
   "metadata": {
    "collapsed": false,
    "ExecuteTime": {
     "end_time": "2024-03-07T00:14:32.388082Z",
     "start_time": "2024-03-07T00:14:32.380927Z"
    }
   },
   "id": "e31e4147b55e4922",
   "execution_count": 25
  },
  {
   "cell_type": "markdown",
   "source": [
    "---\n",
    "# Summary Table"
   ],
   "metadata": {
    "collapsed": false
   },
   "id": "3f5337a66f5f6504"
  },
  {
   "cell_type": "code",
   "outputs": [],
   "source": [
    "data = [[\"\", \"\"],\n",
    "        [\"Total Exons Detected\", num_exons_detected],\n",
    "        [\"DEXSeq Tested Exons\", num_exons_dex_tested],\n",
    "        [\"DEXSeq Sig Exons\", num_exons_dex_sig],\n",
    "        [\"rMATS Detected Exons\", num_exons_rmats_detected],\n",
    "        [\"rMATS Tested Exons\", num_exons_rmats_tested],\n",
    "        [\"rMATS Sig Exons\", num_exons_rmats_sig],\n",
    "        [\"\", \"\"],\n",
    "        [\"DEXSeq Tested & rMATS Detected Exons\", num_exons_dex_tested_rmats_detected],\n",
    "        [\"DEXSeq Tested & rMATS Tested Exons\", num_exons_dex_tested_rmats_tested],\n",
    "        [\"DEXSeq Tested & rMATS Sig Exons\", num_exons_dex_tested_rmats_sig],\n",
    "        [\"DEXSeq Sig & rMATS Detected Exons\", num_exons_dex_sig_rmats_detected],\n",
    "        [\"DEXSeq Sig & rMATS Tested Exons\", num_exons_dex_sig_rmats_tested],\n",
    "        [\"DEXSeq Sig & rMATS Sig Exons\", num_exons_dex_sig_rmats_sig],\n",
    "        [\"\", \"\"],\n",
    "        [\"Total Events Detected\", num_events_detected],\n",
    "        [\"rMATS Tested Events\", num_events_rmats_tested],\n",
    "        [\"rMATS Sig Events\", num_events_rmats_sig],\n",
    "        [\"DEXSeq Tested Events\", num_events_dex_tested],\n",
    "        [\"DEXSeq Sig Events\", num_events_dex_sig],\n",
    "        [\"\", \"\"],\n",
    "        [\"rMATS Tested & DEXSeq Tested Events\", num_events_rmats_tested_dex_tested],\n",
    "        [\"rMATS Tested & DEXSeq Sig Events\", num_events_rmats_tested_dex_sig],\n",
    "        [\"rMATS Sig & DEXSeq Tested Events\", num_events_rmats_sig_dex_tested],\n",
    "        [\"rMATS Sig & DEXSeq Sig Events\", num_events_rmats_sig_dex_sig]]\n",
    "\n",
    "summary_table = pd.DataFrame(data, columns=[\"CountType\", \"Counts\"])"
   ],
   "metadata": {
    "collapsed": false,
    "ExecuteTime": {
     "end_time": "2024-03-07T00:14:32.396200Z",
     "start_time": "2024-03-07T00:14:32.389226Z"
    }
   },
   "id": "d6cd08ff26efb031",
   "execution_count": 26
  }
 ],
 "metadata": {
  "kernelspec": {
   "display_name": "Python 3",
   "language": "python",
   "name": "python3"
  },
  "language_info": {
   "codemirror_mode": {
    "name": "ipython",
    "version": 2
   },
   "file_extension": ".py",
   "mimetype": "text/x-python",
   "name": "python",
   "nbconvert_exporter": "python",
   "pygments_lexer": "ipython2",
   "version": "2.7.6"
  }
 },
 "nbformat": 4,
 "nbformat_minor": 5
}
